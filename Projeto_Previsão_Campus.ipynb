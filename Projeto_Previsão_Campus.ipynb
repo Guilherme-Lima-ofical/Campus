{
 "cells": [
  {
   "cell_type": "markdown",
   "id": "2467b05d",
   "metadata": {},
   "source": [
    "### Etapas do Projeto:\n",
    "#### Aqui vamos definir como o projeto vai se desenvolver e a metodologia que vamos seguir, isso facilita em muito quando quisermos ir para alguem ponto especifico, pois vamos saber a etapa dele."
   ]
  },
  {
   "cell_type": "markdown",
   "id": "726b5091",
   "metadata": {},
   "source": [
    "- Etapa 0: Entendimento do problema\n",
    "    - A etapa de entedimento do problema e a etapa que está acima de nós, o contexto e o objetivo do problema já estão definidos, ou seja, já etendemos o problema, e soment assim podemos seguir em frente com o projeto."
   ]
  },
  {
   "cell_type": "markdown",
   "id": "21b9b01e",
   "metadata": {},
   "source": [
    "- Etapa 1: Importas as bibliotecas necessarias\n",
    "    - Aqui nos vamos realizar imports das bibliotecas mais usadas para tratamento de dados, plotar graficos e machine learning, e aqui que está o ouro do python, pois pela quantidade de coisas prontas, nos não precisamos criar tudo do zero, basta saber utilizar e modelar algo que já está feito."
   ]
  },
  {
   "cell_type": "markdown",
   "id": "5c85a5de",
   "metadata": {},
   "source": [
    "- Etapa 2: Extração dos nossos dados\n",
    "    - Nessa etapa que vamos trazer os nossos dados para o python, como explicado acima os dados estão e um formato de csv, ou seja, de alguma forma vamos ter que ler esses dados e traze-los para o python."
   ]
  },
  {
   "cell_type": "markdown",
   "id": "b5be9d72",
   "metadata": {},
   "source": [
    "- Etapa 3: Tratamento dos dados\n",
    "    - Aqui e uma etapa chave, sem o tratamento dos dados não vamos poder plotar graficos com facilidade, pois pode haver valores que não permitam, por isso um bom tratamento dos dados e a etapa primordial de qualquer projeto de Data Scince pois sem essa etapa, as coisas vão se complicar mais para frente."
   ]
  },
  {
   "cell_type": "markdown",
   "id": "19f6b6f3",
   "metadata": {},
   "source": [
    "- Etapa 4: Exploração dos dados\n",
    "    - Nessa etapa que vamos plotar graficos e com base neles entender como os nossos dados estão dispostos, responder até algumas pergutas de negócio e já podemos ter a nossa resposta nessa etapa mesmo, sem a necessaridade de aplicar os modelos de machine learning, pois dependendo do nosso objetivo, ele já pode ser respodido com graficos."
   ]
  },
  {
   "cell_type": "markdown",
   "id": "47c57edf",
   "metadata": {},
   "source": [
    "- Etapa 5: Encondig dos dados\n",
    "    - Aqui e outra etapa super importante, pois os modelos de Machine Learning, não conseguem ler textos, ou seja, a coluna de genero que temos disponiveis nos nossos dados, lá está para homens = M e para mulheres = F, o modelo não consegue entender essas letras assim ele precise que voce transforme essas letras para por exemplo, 0 = homens, 1 = mulheres, e assim ele vai conseguir aprender."
   ]
  },
  {
   "cell_type": "markdown",
   "id": "27761034",
   "metadata": {},
   "source": [
    "- Etapa 6: Aplicação dos modelos de ML e Avaliação deles.\n",
    "    - Só depois de passar por esses 5 passos que nossos dados vão está prontos para serem dados para o modelo de ML, por isso as outras etapas são tão importantes e veem primeiro, pois sem ter uma boa base estuturada dos meus dados, não iremos conseguir fazer essa aplicação do modelo."
   ]
  },
  {
   "cell_type": "markdown",
   "id": "cc13c22a",
   "metadata": {},
   "source": [
    "- Etapa 7: Melhorias no modelo\n",
    "    - Caso o modelo não nos sadisfaça com o resultado dele, podemos buscar maneiras de tentar melhora-lo, como por exemplo adicionar mais parametros no modelo, excluir alguma coluna que não tenha tanta relevancia para o modelo, rever alguma atitude que eu tenha tomado anteriomente para ver se melhora o modelo ou não.\n",
    "    - Essa e uma fase bem importante também, mas que na maioria dos casos não é tão necessaria, pois caso fizemos bem as 5 primeiras etapas, o nosso modelo vai ter um bom resultado naturalmente, então vamos ter que chegar lá para descobrir."
   ]
  },
  {
   "cell_type": "markdown",
   "id": "45d5827e",
   "metadata": {},
   "source": [
    "- Etapa 8: Teste nos modelos\n",
    "    - Depois de tudo que fizemos para aplicar o modelo e testa ele, vamos para parte divertida, vamos testa esse modelo comparando ele com o valor real, vamos colocar o valor real em uma coluna e o valor previsto em outra para comparar como o modelo está se saindo ná prática."
   ]
  },
  {
   "cell_type": "markdown",
   "id": "6663b14b",
   "metadata": {},
   "source": [
    "- Etapa 9: Deploy do projeto\n",
    "    - E aqui que \"cuspimos\" nossa ideia para fora do codigo, e aqui que criamos um WebApp em que a voce que está lendo agora, pode simplesmente entrar nele, e sem precisar modificar codigo e nem nada, obter os seus resultados, sendo necessario apenas passar suas informações para o modelo, isso é incrivel não é mesmo?"
   ]
  },
  {
   "cell_type": "markdown",
   "id": "f6c27540",
   "metadata": {},
   "source": [
    "- Etapa 10 Final: Conclusão final\n",
    "    - Nessa etapa que vou conclui o projeto com minhas considerações finais, falar como foi o projeto e se consegui atingir o meu objetivo, falar como foi construir o projeto, etc... uma conclusão."
   ]
  },
  {
   "cell_type": "markdown",
   "id": "4f30b3b2",
   "metadata": {},
   "source": [
    "---"
   ]
  },
  {
   "cell_type": "markdown",
   "id": "ad56fa77",
   "metadata": {},
   "source": [
    "### Iniciando o projeto:"
   ]
  },
  {
   "cell_type": "markdown",
   "id": "e437a7cc",
   "metadata": {},
   "source": [
    "#### Etapa 1: Importas as bibliotecas necessarias"
   ]
  },
  {
   "cell_type": "code",
   "execution_count": 1,
   "id": "02374368",
   "metadata": {},
   "outputs": [],
   "source": [
    "#Bibliotecas padrões de qualquer projeto\n",
    "import pandas as pd\n",
    "import numpy as np\n",
    "import matplotlib.pyplot as plt\n",
    "import seaborn as sns\n",
    "#---\n",
    "#Biblioteca de Encondig dos dados\n",
    "from sklearn.preprocessing import LabelEncoder\n",
    "#---\n",
    "#Bibliotecas de Avaliação do modelo\n",
    "from sklearn.metrics import classification_report\n",
    "#---\n",
    "#Bibliotecas de Machine Learning(ML)\n",
    "from sklearn.linear_model import LogisticRegression\n",
    "from sklearn.tree import DecisionTreeClassifier\n",
    "from sklearn.ensemble import RandomForestClassifier\n",
    "from sklearn.svm import SVC\n",
    "#---\n",
    "#Bibliotecas de seleção dos dados\n",
    "from sklearn.model_selection import train_test_split, RandomizedSearchCV, cross_val_score\n",
    "from sklearn.feature_selection import mutual_info_classif\n",
    "from sklearn.ensemble import ExtraTreesClassifier\n",
    "#---\n",
    "#Filtrar mensagem de erros irrelevantes\n",
    "import warnings\n",
    "warnings.filterwarnings('ignore')\n",
    "#---\n",
    "#Plotar os graficos\n",
    "%matplotlib inline"
   ]
  },
  {
   "cell_type": "markdown",
   "id": "5cf3daec",
   "metadata": {},
   "source": [
    "---"
   ]
  },
  {
   "cell_type": "markdown",
   "id": "9ecbaf05",
   "metadata": {},
   "source": [
    "#### Etapa 2: Extração dos nossos dados"
   ]
  },
  {
   "cell_type": "code",
   "execution_count": 2,
   "id": "a92cc91e",
   "metadata": {},
   "outputs": [
    {
     "data": {
      "text/html": [
       "<div>\n",
       "<style scoped>\n",
       "    .dataframe tbody tr th:only-of-type {\n",
       "        vertical-align: middle;\n",
       "    }\n",
       "\n",
       "    .dataframe tbody tr th {\n",
       "        vertical-align: top;\n",
       "    }\n",
       "\n",
       "    .dataframe thead th {\n",
       "        text-align: right;\n",
       "    }\n",
       "</style>\n",
       "<table border=\"1\" class=\"dataframe\">\n",
       "  <thead>\n",
       "    <tr style=\"text-align: right;\">\n",
       "      <th></th>\n",
       "      <th>sl_no</th>\n",
       "      <th>gender</th>\n",
       "      <th>ssc_p</th>\n",
       "      <th>ssc_b</th>\n",
       "      <th>hsc_p</th>\n",
       "      <th>hsc_b</th>\n",
       "      <th>hsc_s</th>\n",
       "      <th>degree_p</th>\n",
       "      <th>degree_t</th>\n",
       "      <th>workex</th>\n",
       "      <th>etest_p</th>\n",
       "      <th>specialisation</th>\n",
       "      <th>mba_p</th>\n",
       "      <th>status</th>\n",
       "      <th>salary</th>\n",
       "    </tr>\n",
       "  </thead>\n",
       "  <tbody>\n",
       "    <tr>\n",
       "      <th>0</th>\n",
       "      <td>1</td>\n",
       "      <td>M</td>\n",
       "      <td>67.00</td>\n",
       "      <td>Others</td>\n",
       "      <td>91.00</td>\n",
       "      <td>Others</td>\n",
       "      <td>Commerce</td>\n",
       "      <td>58.00</td>\n",
       "      <td>Sci&amp;Tech</td>\n",
       "      <td>No</td>\n",
       "      <td>55.0</td>\n",
       "      <td>Mkt&amp;HR</td>\n",
       "      <td>58.80</td>\n",
       "      <td>Placed</td>\n",
       "      <td>270000.0</td>\n",
       "    </tr>\n",
       "    <tr>\n",
       "      <th>1</th>\n",
       "      <td>2</td>\n",
       "      <td>M</td>\n",
       "      <td>79.33</td>\n",
       "      <td>Central</td>\n",
       "      <td>78.33</td>\n",
       "      <td>Others</td>\n",
       "      <td>Science</td>\n",
       "      <td>77.48</td>\n",
       "      <td>Sci&amp;Tech</td>\n",
       "      <td>Yes</td>\n",
       "      <td>86.5</td>\n",
       "      <td>Mkt&amp;Fin</td>\n",
       "      <td>66.28</td>\n",
       "      <td>Placed</td>\n",
       "      <td>200000.0</td>\n",
       "    </tr>\n",
       "    <tr>\n",
       "      <th>2</th>\n",
       "      <td>3</td>\n",
       "      <td>M</td>\n",
       "      <td>65.00</td>\n",
       "      <td>Central</td>\n",
       "      <td>68.00</td>\n",
       "      <td>Central</td>\n",
       "      <td>Arts</td>\n",
       "      <td>64.00</td>\n",
       "      <td>Comm&amp;Mgmt</td>\n",
       "      <td>No</td>\n",
       "      <td>75.0</td>\n",
       "      <td>Mkt&amp;Fin</td>\n",
       "      <td>57.80</td>\n",
       "      <td>Placed</td>\n",
       "      <td>250000.0</td>\n",
       "    </tr>\n",
       "    <tr>\n",
       "      <th>3</th>\n",
       "      <td>4</td>\n",
       "      <td>M</td>\n",
       "      <td>56.00</td>\n",
       "      <td>Central</td>\n",
       "      <td>52.00</td>\n",
       "      <td>Central</td>\n",
       "      <td>Science</td>\n",
       "      <td>52.00</td>\n",
       "      <td>Sci&amp;Tech</td>\n",
       "      <td>No</td>\n",
       "      <td>66.0</td>\n",
       "      <td>Mkt&amp;HR</td>\n",
       "      <td>59.43</td>\n",
       "      <td>Not Placed</td>\n",
       "      <td>NaN</td>\n",
       "    </tr>\n",
       "    <tr>\n",
       "      <th>4</th>\n",
       "      <td>5</td>\n",
       "      <td>M</td>\n",
       "      <td>85.80</td>\n",
       "      <td>Central</td>\n",
       "      <td>73.60</td>\n",
       "      <td>Central</td>\n",
       "      <td>Commerce</td>\n",
       "      <td>73.30</td>\n",
       "      <td>Comm&amp;Mgmt</td>\n",
       "      <td>No</td>\n",
       "      <td>96.8</td>\n",
       "      <td>Mkt&amp;Fin</td>\n",
       "      <td>55.50</td>\n",
       "      <td>Placed</td>\n",
       "      <td>425000.0</td>\n",
       "    </tr>\n",
       "  </tbody>\n",
       "</table>\n",
       "</div>"
      ],
      "text/plain": [
       "   sl_no gender  ssc_p    ssc_b  hsc_p    hsc_b     hsc_s  degree_p  \\\n",
       "0      1      M  67.00   Others  91.00   Others  Commerce     58.00   \n",
       "1      2      M  79.33  Central  78.33   Others   Science     77.48   \n",
       "2      3      M  65.00  Central  68.00  Central      Arts     64.00   \n",
       "3      4      M  56.00  Central  52.00  Central   Science     52.00   \n",
       "4      5      M  85.80  Central  73.60  Central  Commerce     73.30   \n",
       "\n",
       "    degree_t workex  etest_p specialisation  mba_p      status    salary  \n",
       "0   Sci&Tech     No     55.0         Mkt&HR  58.80      Placed  270000.0  \n",
       "1   Sci&Tech    Yes     86.5        Mkt&Fin  66.28      Placed  200000.0  \n",
       "2  Comm&Mgmt     No     75.0        Mkt&Fin  57.80      Placed  250000.0  \n",
       "3   Sci&Tech     No     66.0         Mkt&HR  59.43  Not Placed       NaN  \n",
       "4  Comm&Mgmt     No     96.8        Mkt&Fin  55.50      Placed  425000.0  "
      ]
     },
     "execution_count": 2,
     "metadata": {},
     "output_type": "execute_result"
    }
   ],
   "source": [
    "#Extraindo os dados do arquivo csv com o pandas.\n",
    "df = pd.read_csv('Placement_Data_Full_Class.csv')\n",
    "\n",
    "#Exibindo as primeiras entradas\n",
    "df.head()"
   ]
  },
  {
   "cell_type": "markdown",
   "id": "1e1122fe",
   "metadata": {},
   "source": [
    "---"
   ]
  },
  {
   "cell_type": "markdown",
   "id": "f7de4283",
   "metadata": {},
   "source": [
    "#### Etapa 3: Tratamento dos dados"
   ]
  },
  {
   "cell_type": "code",
   "execution_count": 3,
   "id": "c3d46e77",
   "metadata": {},
   "outputs": [
    {
     "name": "stdout",
     "output_type": "stream",
     "text": [
      "<class 'pandas.core.frame.DataFrame'>\n",
      "RangeIndex: 215 entries, 0 to 214\n",
      "Data columns (total 15 columns):\n",
      " #   Column          Non-Null Count  Dtype  \n",
      "---  ------          --------------  -----  \n",
      " 0   sl_no           215 non-null    int64  \n",
      " 1   gender          215 non-null    object \n",
      " 2   ssc_p           215 non-null    float64\n",
      " 3   ssc_b           215 non-null    object \n",
      " 4   hsc_p           215 non-null    float64\n",
      " 5   hsc_b           215 non-null    object \n",
      " 6   hsc_s           215 non-null    object \n",
      " 7   degree_p        215 non-null    float64\n",
      " 8   degree_t        215 non-null    object \n",
      " 9   workex          215 non-null    object \n",
      " 10  etest_p         215 non-null    float64\n",
      " 11  specialisation  215 non-null    object \n",
      " 12  mba_p           215 non-null    float64\n",
      " 13  status          215 non-null    object \n",
      " 14  salary          148 non-null    float64\n",
      "dtypes: float64(6), int64(1), object(8)\n",
      "memory usage: 25.3+ KB\n"
     ]
    }
   ],
   "source": [
    "#Verificando informações gerais dos dados\n",
    "df.info()"
   ]
  },
  {
   "cell_type": "code",
   "execution_count": 4,
   "id": "5bfa6803",
   "metadata": {},
   "outputs": [
    {
     "data": {
      "text/plain": [
       "sl_no              0\n",
       "gender             0\n",
       "ssc_p              0\n",
       "ssc_b              0\n",
       "hsc_p              0\n",
       "hsc_b              0\n",
       "hsc_s              0\n",
       "degree_p           0\n",
       "degree_t           0\n",
       "workex             0\n",
       "etest_p            0\n",
       "specialisation     0\n",
       "mba_p              0\n",
       "status             0\n",
       "salary            67\n",
       "dtype: int64"
      ]
     },
     "execution_count": 4,
     "metadata": {},
     "output_type": "execute_result"
    }
   ],
   "source": [
    "#Verificando valores nulos\n",
    "df.isnull().sum()"
   ]
  },
  {
   "cell_type": "markdown",
   "id": "795b644e",
   "metadata": {},
   "source": [
    "- Como podemos notar, existem 67 valores nulos na coluna salário, para resolvemos esse problema nos podemos fazer duas coisas, \n",
    "    - 1: Troca o valor pelo média, mediana, etc...\n",
    "    - 2: Rever nosso objetivo, pois o nosso objetivo e ver quem está qualificado para a vaga, então a pessoa não vai ter salario ainda, ou seja, salario não tem nada haver com meu objetivo.\n",
    "    "
   ]
  },
  {
   "cell_type": "markdown",
   "id": "2d957d2e",
   "metadata": {},
   "source": [
    "- Qual caminho eu vou preferir tomar?\n",
    "    - Como eu vou querer uma analises de comparação do salario, ver o maximo e o minino, ver quem recebe mais, etc... ter uma ideia geral dos meus dados, para isso será necessaria a coluna de salário."
   ]
  },
  {
   "cell_type": "markdown",
   "id": "4d2071ab",
   "metadata": {},
   "source": [
    "- Qual a forma de substituição que eu vou usar?\n",
    "    - Eu vou testar aqui 3 formas de substituição desses valores.\n",
    "        - 1 forma: Média dos salarios\n",
    "        - 2 forma: Mediana dos salarios\n",
    "        - 3 forma: Valor que mais aparece nos dados."
   ]
  },
  {
   "cell_type": "code",
   "execution_count": 5,
   "id": "3ae18d4e",
   "metadata": {},
   "outputs": [],
   "source": [
    "#Criando uma função que vai me trazer a comparação das 3 formas acima com a coluna de salario.\n",
    "\n",
    "def plotdistplot(coluna):\n",
    "    \n",
    "    plt.figure(figsize=(15,7))\n",
    "    sns.distplot(df['salary'] , kde=True, hist=False, label='Salário Real', color='orange')\n",
    "    sns.distplot(df[coluna], kde=True, hist=False, label=coluna ,color='black')"
   ]
  },
  {
   "cell_type": "code",
   "execution_count": 6,
   "id": "6026d2ef",
   "metadata": {},
   "outputs": [
    {
     "data": {
      "text/html": [
       "<div>\n",
       "<style scoped>\n",
       "    .dataframe tbody tr th:only-of-type {\n",
       "        vertical-align: middle;\n",
       "    }\n",
       "\n",
       "    .dataframe tbody tr th {\n",
       "        vertical-align: top;\n",
       "    }\n",
       "\n",
       "    .dataframe thead th {\n",
       "        text-align: right;\n",
       "    }\n",
       "</style>\n",
       "<table border=\"1\" class=\"dataframe\">\n",
       "  <thead>\n",
       "    <tr style=\"text-align: right;\">\n",
       "      <th></th>\n",
       "      <th>sl_no</th>\n",
       "      <th>gender</th>\n",
       "      <th>ssc_p</th>\n",
       "      <th>ssc_b</th>\n",
       "      <th>hsc_p</th>\n",
       "      <th>hsc_b</th>\n",
       "      <th>hsc_s</th>\n",
       "      <th>degree_p</th>\n",
       "      <th>degree_t</th>\n",
       "      <th>workex</th>\n",
       "      <th>etest_p</th>\n",
       "      <th>specialisation</th>\n",
       "      <th>mba_p</th>\n",
       "      <th>status</th>\n",
       "      <th>salary</th>\n",
       "      <th>Salario_Médio</th>\n",
       "      <th>Salario_Médiana</th>\n",
       "      <th>Salario_mais_Frequente</th>\n",
       "    </tr>\n",
       "  </thead>\n",
       "  <tbody>\n",
       "    <tr>\n",
       "      <th>0</th>\n",
       "      <td>1</td>\n",
       "      <td>M</td>\n",
       "      <td>67.00</td>\n",
       "      <td>Others</td>\n",
       "      <td>91.00</td>\n",
       "      <td>Others</td>\n",
       "      <td>Commerce</td>\n",
       "      <td>58.00</td>\n",
       "      <td>Sci&amp;Tech</td>\n",
       "      <td>No</td>\n",
       "      <td>55.0</td>\n",
       "      <td>Mkt&amp;HR</td>\n",
       "      <td>58.80</td>\n",
       "      <td>Placed</td>\n",
       "      <td>270000.0</td>\n",
       "      <td>270000.000000</td>\n",
       "      <td>270000.0</td>\n",
       "      <td>270000.0</td>\n",
       "    </tr>\n",
       "    <tr>\n",
       "      <th>1</th>\n",
       "      <td>2</td>\n",
       "      <td>M</td>\n",
       "      <td>79.33</td>\n",
       "      <td>Central</td>\n",
       "      <td>78.33</td>\n",
       "      <td>Others</td>\n",
       "      <td>Science</td>\n",
       "      <td>77.48</td>\n",
       "      <td>Sci&amp;Tech</td>\n",
       "      <td>Yes</td>\n",
       "      <td>86.5</td>\n",
       "      <td>Mkt&amp;Fin</td>\n",
       "      <td>66.28</td>\n",
       "      <td>Placed</td>\n",
       "      <td>200000.0</td>\n",
       "      <td>200000.000000</td>\n",
       "      <td>200000.0</td>\n",
       "      <td>200000.0</td>\n",
       "    </tr>\n",
       "    <tr>\n",
       "      <th>2</th>\n",
       "      <td>3</td>\n",
       "      <td>M</td>\n",
       "      <td>65.00</td>\n",
       "      <td>Central</td>\n",
       "      <td>68.00</td>\n",
       "      <td>Central</td>\n",
       "      <td>Arts</td>\n",
       "      <td>64.00</td>\n",
       "      <td>Comm&amp;Mgmt</td>\n",
       "      <td>No</td>\n",
       "      <td>75.0</td>\n",
       "      <td>Mkt&amp;Fin</td>\n",
       "      <td>57.80</td>\n",
       "      <td>Placed</td>\n",
       "      <td>250000.0</td>\n",
       "      <td>250000.000000</td>\n",
       "      <td>250000.0</td>\n",
       "      <td>250000.0</td>\n",
       "    </tr>\n",
       "    <tr>\n",
       "      <th>3</th>\n",
       "      <td>4</td>\n",
       "      <td>M</td>\n",
       "      <td>56.00</td>\n",
       "      <td>Central</td>\n",
       "      <td>52.00</td>\n",
       "      <td>Central</td>\n",
       "      <td>Science</td>\n",
       "      <td>52.00</td>\n",
       "      <td>Sci&amp;Tech</td>\n",
       "      <td>No</td>\n",
       "      <td>66.0</td>\n",
       "      <td>Mkt&amp;HR</td>\n",
       "      <td>59.43</td>\n",
       "      <td>Not Placed</td>\n",
       "      <td>NaN</td>\n",
       "      <td>288655.405405</td>\n",
       "      <td>265000.0</td>\n",
       "      <td>300000.0</td>\n",
       "    </tr>\n",
       "    <tr>\n",
       "      <th>4</th>\n",
       "      <td>5</td>\n",
       "      <td>M</td>\n",
       "      <td>85.80</td>\n",
       "      <td>Central</td>\n",
       "      <td>73.60</td>\n",
       "      <td>Central</td>\n",
       "      <td>Commerce</td>\n",
       "      <td>73.30</td>\n",
       "      <td>Comm&amp;Mgmt</td>\n",
       "      <td>No</td>\n",
       "      <td>96.8</td>\n",
       "      <td>Mkt&amp;Fin</td>\n",
       "      <td>55.50</td>\n",
       "      <td>Placed</td>\n",
       "      <td>425000.0</td>\n",
       "      <td>425000.000000</td>\n",
       "      <td>425000.0</td>\n",
       "      <td>425000.0</td>\n",
       "    </tr>\n",
       "  </tbody>\n",
       "</table>\n",
       "</div>"
      ],
      "text/plain": [
       "   sl_no gender  ssc_p    ssc_b  hsc_p    hsc_b     hsc_s  degree_p  \\\n",
       "0      1      M  67.00   Others  91.00   Others  Commerce     58.00   \n",
       "1      2      M  79.33  Central  78.33   Others   Science     77.48   \n",
       "2      3      M  65.00  Central  68.00  Central      Arts     64.00   \n",
       "3      4      M  56.00  Central  52.00  Central   Science     52.00   \n",
       "4      5      M  85.80  Central  73.60  Central  Commerce     73.30   \n",
       "\n",
       "    degree_t workex  etest_p specialisation  mba_p      status    salary  \\\n",
       "0   Sci&Tech     No     55.0         Mkt&HR  58.80      Placed  270000.0   \n",
       "1   Sci&Tech    Yes     86.5        Mkt&Fin  66.28      Placed  200000.0   \n",
       "2  Comm&Mgmt     No     75.0        Mkt&Fin  57.80      Placed  250000.0   \n",
       "3   Sci&Tech     No     66.0         Mkt&HR  59.43  Not Placed       NaN   \n",
       "4  Comm&Mgmt     No     96.8        Mkt&Fin  55.50      Placed  425000.0   \n",
       "\n",
       "   Salario_Médio  Salario_Médiana  Salario_mais_Frequente  \n",
       "0  270000.000000         270000.0                270000.0  \n",
       "1  200000.000000         200000.0                200000.0  \n",
       "2  250000.000000         250000.0                250000.0  \n",
       "3  288655.405405         265000.0                300000.0  \n",
       "4  425000.000000         425000.0                425000.0  "
      ]
     },
     "execution_count": 6,
     "metadata": {},
     "output_type": "execute_result"
    }
   ],
   "source": [
    "#Usando as 3 formas e adicionando ao df\n",
    "\n",
    "#Forma 1\n",
    "df['Salario_Médio'] = df['salary'].fillna(df['salary'].mean())\n",
    "\n",
    "#Forma 2\n",
    "df['Salario_Médiana'] = df['salary'].fillna(df['salary'].median())\n",
    "\n",
    "#Forma 3\n",
    "df['Salario_mais_Frequente'] = df['salary'].fillna(df['salary'].mode()[0])\n",
    "\n",
    "\n",
    "#Exibindo meu Df\n",
    "df.head()"
   ]
  },
  {
   "cell_type": "code",
   "execution_count": 7,
   "id": "92cd963a",
   "metadata": {},
   "outputs": [
    {
     "data": {
      "image/png": "[encoded data removed]",
      "text/plain": [
       "<Figure size 1080x504 with 1 Axes>"
      ]
     },
     "metadata": {
      "needs_background": "light"
     },
     "output_type": "display_data"
    },
    {
     "data": {
      "image/png": "[encoded data removed]",
      "text/plain": [
       "<Figure size 1080x504 with 1 Axes>"
      ]
     },
     "metadata": {
      "needs_background": "light"
     },
     "output_type": "display_data"
    },
    {
     "data": {
      "image/png": "[encoded data removed]",
      "text/plain": [
       "<Figure size 1080x504 with 1 Axes>"
      ]
     },
     "metadata": {
      "needs_background": "light"
     },
     "output_type": "display_data"
    }
   ],
   "source": [
    "#Agora vamos usar criar uma lista com os salarios e percorrer ela plotando os graficos.\n",
    "\n",
    "lista_salarios = ['Salario_Médio','Salario_Médiana','Salario_mais_Frequente']\n",
    "\n",
    "\n",
    "#Percorrendo e comparando com o salario real\n",
    "\n",
    "for salario in lista_salarios:\n",
    "    plotdistplot(salario)"
   ]
  },
  {
   "cell_type": "markdown",
   "id": "081ec59d",
   "metadata": {},
   "source": [
    "- Tenho a impressão de que a linha preta de Salario_mais_Frequente e a que menos puxa para cima e a que está mais proxima do valor real que o salário, então eu vou usar ela, eu vou substituir os valores nulos, pelo valor mais frequente."
   ]
  },
  {
   "cell_type": "code",
   "execution_count": 8,
   "id": "bdb325ba",
   "metadata": {},
   "outputs": [],
   "source": [
    "#Excluindo as colunas criadas apenas para conseguimos comparar o melhor para os nossos dados\n",
    "df.drop(lista_salarios,axis=1,inplace=True)"
   ]
  },
  {
   "cell_type": "code",
   "execution_count": 9,
   "id": "1f73cc12",
   "metadata": {},
   "outputs": [],
   "source": [
    "#Modificando os valores vazios pelo valor mais frequente.\n",
    "df['salary'].fillna(df['salary'].mode()[0],inplace=True)"
   ]
  },
  {
   "cell_type": "code",
   "execution_count": 10,
   "id": "cd1b0152",
   "metadata": {},
   "outputs": [
    {
     "data": {
      "text/plain": [
       "sl_no             0\n",
       "gender            0\n",
       "ssc_p             0\n",
       "ssc_b             0\n",
       "hsc_p             0\n",
       "hsc_b             0\n",
       "hsc_s             0\n",
       "degree_p          0\n",
       "degree_t          0\n",
       "workex            0\n",
       "etest_p           0\n",
       "specialisation    0\n",
       "mba_p             0\n",
       "status            0\n",
       "salary            0\n",
       "dtype: int64"
      ]
     },
     "execution_count": 10,
     "metadata": {},
     "output_type": "execute_result"
    }
   ],
   "source": [
    "#Revendo se ainda existe valores nulos\n",
    "df.isnull().sum()"
   ]
  },
  {
   "cell_type": "code",
   "execution_count": 11,
   "id": "2dc3662c",
   "metadata": {},
   "outputs": [
    {
     "data": {
      "text/html": [
       "<div>\n",
       "<style scoped>\n",
       "    .dataframe tbody tr th:only-of-type {\n",
       "        vertical-align: middle;\n",
       "    }\n",
       "\n",
       "    .dataframe tbody tr th {\n",
       "        vertical-align: top;\n",
       "    }\n",
       "\n",
       "    .dataframe thead th {\n",
       "        text-align: right;\n",
       "    }\n",
       "</style>\n",
       "<table border=\"1\" class=\"dataframe\">\n",
       "  <thead>\n",
       "    <tr style=\"text-align: right;\">\n",
       "      <th></th>\n",
       "      <th>sl_no</th>\n",
       "      <th>ssc_p</th>\n",
       "      <th>hsc_p</th>\n",
       "      <th>degree_p</th>\n",
       "      <th>etest_p</th>\n",
       "      <th>mba_p</th>\n",
       "      <th>salary</th>\n",
       "    </tr>\n",
       "  </thead>\n",
       "  <tbody>\n",
       "    <tr>\n",
       "      <th>count</th>\n",
       "      <td>215.000000</td>\n",
       "      <td>215.000000</td>\n",
       "      <td>215.000000</td>\n",
       "      <td>215.000000</td>\n",
       "      <td>215.000000</td>\n",
       "      <td>215.000000</td>\n",
       "      <td>215.000000</td>\n",
       "    </tr>\n",
       "    <tr>\n",
       "      <th>mean</th>\n",
       "      <td>108.000000</td>\n",
       "      <td>67.303395</td>\n",
       "      <td>66.333163</td>\n",
       "      <td>66.370186</td>\n",
       "      <td>72.100558</td>\n",
       "      <td>62.278186</td>\n",
       "      <td>292190.697674</td>\n",
       "    </tr>\n",
       "    <tr>\n",
       "      <th>std</th>\n",
       "      <td>62.209324</td>\n",
       "      <td>10.827205</td>\n",
       "      <td>10.897509</td>\n",
       "      <td>7.358743</td>\n",
       "      <td>13.275956</td>\n",
       "      <td>5.833385</td>\n",
       "      <td>77636.740429</td>\n",
       "    </tr>\n",
       "    <tr>\n",
       "      <th>min</th>\n",
       "      <td>1.000000</td>\n",
       "      <td>40.890000</td>\n",
       "      <td>37.000000</td>\n",
       "      <td>50.000000</td>\n",
       "      <td>50.000000</td>\n",
       "      <td>51.210000</td>\n",
       "      <td>200000.000000</td>\n",
       "    </tr>\n",
       "    <tr>\n",
       "      <th>25%</th>\n",
       "      <td>54.500000</td>\n",
       "      <td>60.600000</td>\n",
       "      <td>60.900000</td>\n",
       "      <td>61.000000</td>\n",
       "      <td>60.000000</td>\n",
       "      <td>57.945000</td>\n",
       "      <td>250000.000000</td>\n",
       "    </tr>\n",
       "    <tr>\n",
       "      <th>50%</th>\n",
       "      <td>108.000000</td>\n",
       "      <td>67.000000</td>\n",
       "      <td>65.000000</td>\n",
       "      <td>66.000000</td>\n",
       "      <td>71.000000</td>\n",
       "      <td>62.000000</td>\n",
       "      <td>300000.000000</td>\n",
       "    </tr>\n",
       "    <tr>\n",
       "      <th>75%</th>\n",
       "      <td>161.500000</td>\n",
       "      <td>75.700000</td>\n",
       "      <td>73.000000</td>\n",
       "      <td>72.000000</td>\n",
       "      <td>83.500000</td>\n",
       "      <td>66.255000</td>\n",
       "      <td>300000.000000</td>\n",
       "    </tr>\n",
       "    <tr>\n",
       "      <th>max</th>\n",
       "      <td>215.000000</td>\n",
       "      <td>89.400000</td>\n",
       "      <td>97.700000</td>\n",
       "      <td>91.000000</td>\n",
       "      <td>98.000000</td>\n",
       "      <td>77.890000</td>\n",
       "      <td>940000.000000</td>\n",
       "    </tr>\n",
       "  </tbody>\n",
       "</table>\n",
       "</div>"
      ],
      "text/plain": [
       "            sl_no       ssc_p       hsc_p    degree_p     etest_p       mba_p  \\\n",
       "count  215.000000  215.000000  215.000000  215.000000  215.000000  215.000000   \n",
       "mean   108.000000   67.303395   66.333163   66.370186   72.100558   62.278186   \n",
       "std     62.209324   10.827205   10.897509    7.358743   13.275956    5.833385   \n",
       "min      1.000000   40.890000   37.000000   50.000000   50.000000   51.210000   \n",
       "25%     54.500000   60.600000   60.900000   61.000000   60.000000   57.945000   \n",
       "50%    108.000000   67.000000   65.000000   66.000000   71.000000   62.000000   \n",
       "75%    161.500000   75.700000   73.000000   72.000000   83.500000   66.255000   \n",
       "max    215.000000   89.400000   97.700000   91.000000   98.000000   77.890000   \n",
       "\n",
       "              salary  \n",
       "count     215.000000  \n",
       "mean   292190.697674  \n",
       "std     77636.740429  \n",
       "min    200000.000000  \n",
       "25%    250000.000000  \n",
       "50%    300000.000000  \n",
       "75%    300000.000000  \n",
       "max    940000.000000  "
      ]
     },
     "execution_count": 11,
     "metadata": {},
     "output_type": "execute_result"
    }
   ],
   "source": [
    "#Informações Estatisticas.\n",
    "df.describe()"
   ]
  },
  {
   "cell_type": "markdown",
   "id": "815a01a5",
   "metadata": {},
   "source": [
    "- Seleção de colunas\n",
    "    - Outro problemas que podemos notas,"
   ]
  },
  {
   "cell_type": "code",
   "execution_count": null,
   "id": "47dbed2d",
   "metadata": {},
   "outputs": [],
   "source": []
  },
  {
   "cell_type": "markdown",
   "id": "f5e92340",
   "metadata": {},
   "source": [
    "---"
   ]
  },
  {
   "cell_type": "markdown",
   "id": "15178471",
   "metadata": {},
   "source": [
    "- E assim terminamos a fase de limpeza dos dados, claro que ainda vou ter que fazer um feature selection aqui, porém vou fazer mais para frente, primeiro eu preciso analisar meu dados para ter uma ideia das colunas que mais se adquam ao meu objetivo."
   ]
  },
  {
   "cell_type": "markdown",
   "id": "c7a19b4c",
   "metadata": {},
   "source": [
    "---"
   ]
  },
  {
   "cell_type": "markdown",
   "id": "646a3ed2",
   "metadata": {},
   "source": [
    "####  Etapa 4: Exploração dos dados\n"
   ]
  },
  {
   "cell_type": "markdown",
   "id": "b9d6438d",
   "metadata": {},
   "source": [
    "- Para começar a exploração dos meus cabeçalhos, eu vou separar ele entre dados categoricos e dados numericos."
   ]
  },
  {
   "cell_type": "code",
   "execution_count": 12,
   "id": "28beabc0",
   "metadata": {},
   "outputs": [],
   "source": [
    "#Cabeçalho categorico\n",
    "dados_cat = list(df.select_dtypes(include=['object']).columns)\n",
    "\n",
    "#Cabeçalho numerico\n",
    "dados_num = list(df.select_dtypes(include=['int32','int64','float32','float64']).columns)"
   ]
  },
  {
   "cell_type": "code",
   "execution_count": 13,
   "id": "d4930a69",
   "metadata": {},
   "outputs": [
    {
     "name": "stdout",
     "output_type": "stream",
     "text": [
      "['gender', 'ssc_b', 'hsc_b', 'hsc_s', 'degree_t', 'workex', 'specialisation', 'status']\n",
      "------------------------------------------------------------------------------------------\n",
      "['sl_no', 'ssc_p', 'hsc_p', 'degree_p', 'etest_p', 'mba_p', 'salary']\n"
     ]
    }
   ],
   "source": [
    "#Exibindo\n",
    "print(dados_cat)\n",
    "print('-'*90)\n",
    "print(dados_num)"
   ]
  },
  {
   "cell_type": "code",
   "execution_count": 14,
   "id": "0d202b83",
   "metadata": {},
   "outputs": [
    {
     "data": {
      "image/png": "[encoded data removed]",
      "text/plain": [
       "<Figure size 1080x504 with 2 Axes>"
      ]
     },
     "metadata": {
      "needs_background": "light"
     },
     "output_type": "display_data"
    }
   ],
   "source": [
    "plt.figure(figsize=(15,7))\n",
    "sns.heatmap(df.corr(),cmap='Wistia',annot=True);"
   ]
  },
  {
   "cell_type": "code",
   "execution_count": 15,
   "id": "7c77ef23",
   "metadata": {},
   "outputs": [
    {
     "data": {
      "image/png": "[encoded data removed]",
      "text/plain": [
       "<Figure size 1080x504 with 9 Axes>"
      ]
     },
     "metadata": {
      "needs_background": "light"
     },
     "output_type": "display_data"
    }
   ],
   "source": [
    "#Vamos ver como estão distribuidos nossos dados numericos\n",
    "df.hist(figsize=(15,7));"
   ]
  },
  {
   "cell_type": "code",
   "execution_count": 16,
   "id": "b3b49c02",
   "metadata": {},
   "outputs": [
    {
     "data": {
      "image/png": "[encoded data removed]",
      "text/plain": [
       "<Figure size 432x288 with 1 Axes>"
      ]
     },
     "metadata": {
      "needs_background": "light"
     },
     "output_type": "display_data"
    }
   ],
   "source": [
    "#Verificando a quantidade de valores que eu tenho na coluna de Status\n",
    "sns.countplot(df['status'],palette='plasma');"
   ]
  },
  {
   "cell_type": "markdown",
   "id": "1fc1b048",
   "metadata": {},
   "source": [
    "- Como pode ser notado, estamos lidando com valores desbalanceados, ou seja, os valores de Placed são maiores do que o de Not Placed, mas por agora, vamos deixar assim, só mais para frente na aplicação do modelo que vamos ter certeza se essa discrepância de dados está prejudicando muito o nosso modelo."
   ]
  },
  {
   "cell_type": "code",
   "execution_count": 17,
   "id": "20e5dbba",
   "metadata": {},
   "outputs": [],
   "source": [
    "#Definindo função que vai fazer esse retorna da contagem em forma grafica\n",
    "#---\n",
    "#Retornar a contagem em forma de dicionario\n",
    "\n",
    "def valuecounts(coluna):\n",
    "    return dict(df[coluna].value_counts())\n",
    "\n",
    "#---\n",
    "\n",
    "#Retorna a contagem em forma grafica\n",
    "def getcountplot(coluna):\n",
    "    \n",
    "    sns.countplot(df[coluna],palette='plasma')\n",
    "    plt.xticks(rotation = '45', fontweight = 'bold', fontsize='10')\n",
    "    plt.xticks(rotation = '45', fontweight = 'bold', fontsize='10')\n",
    "    plt.show()"
   ]
  },
  {
   "cell_type": "code",
   "execution_count": 18,
   "id": "4978e1b1",
   "metadata": {
    "scrolled": false
   },
   "outputs": [
    {
     "name": "stdout",
     "output_type": "stream",
     "text": [
      "Contagem dos valores para a coluna de gender\n"
     ]
    },
    {
     "data": {
      "image/png": "[encoded data removed]",
      "text/plain": [
       "<Figure size 432x288 with 1 Axes>"
      ]
     },
     "metadata": {
      "needs_background": "light"
     },
     "output_type": "display_data"
    },
    {
     "name": "stdout",
     "output_type": "stream",
     "text": [
      "======================================================================\n",
      "Contagem dos valores para a coluna de ssc_b\n"
     ]
    },
    {
     "data": {
      "image/png": "[encoded data removed]",
      "text/plain": [
       "<Figure size 432x288 with 1 Axes>"
      ]
     },
     "metadata": {
      "needs_background": "light"
     },
     "output_type": "display_data"
    },
    {
     "name": "stdout",
     "output_type": "stream",
     "text": [
      "======================================================================\n",
      "Contagem dos valores para a coluna de hsc_b\n"
     ]
    },
    {
     "data": {
      "image/png": "[encoded data removed]",
      "text/plain": [
       "<Figure size 432x288 with 1 Axes>"
      ]
     },
     "metadata": {
      "needs_background": "light"
     },
     "output_type": "display_data"
    },
    {
     "name": "stdout",
     "output_type": "stream",
     "text": [
      "======================================================================\n",
      "Contagem dos valores para a coluna de hsc_s\n"
     ]
    },
    {
     "data": {
      "image/png": "[encoded data removed]",
      "text/plain": [
       "<Figure size 432x288 with 1 Axes>"
      ]
     },
     "metadata": {
      "needs_background": "light"
     },
     "output_type": "display_data"
    },
    {
     "name": "stdout",
     "output_type": "stream",
     "text": [
      "======================================================================\n",
      "Contagem dos valores para a coluna de degree_t\n"
     ]
    },
    {
     "data": {
      "image/png": "[encoded data removed]",
      "text/plain": [
       "<Figure size 432x288 with 1 Axes>"
      ]
     },
     "metadata": {
      "needs_background": "light"
     },
     "output_type": "display_data"
    },
    {
     "name": "stdout",
     "output_type": "stream",
     "text": [
      "======================================================================\n",
      "Contagem dos valores para a coluna de workex\n"
     ]
    },
    {
     "data": {
      "image/png": "[encoded data removed]",
      "text/plain": [
       "<Figure size 432x288 with 1 Axes>"
      ]
     },
     "metadata": {
      "needs_background": "light"
     },
     "output_type": "display_data"
    },
    {
     "name": "stdout",
     "output_type": "stream",
     "text": [
      "======================================================================\n",
      "Contagem dos valores para a coluna de specialisation\n"
     ]
    },
    {
     "data": {
      "image/png": "[encoded data removed]",
      "text/plain": [
       "<Figure size 432x288 with 1 Axes>"
      ]
     },
     "metadata": {
      "needs_background": "light"
     },
     "output_type": "display_data"
    },
    {
     "name": "stdout",
     "output_type": "stream",
     "text": [
      "======================================================================\n",
      "Contagem dos valores para a coluna de status\n"
     ]
    },
    {
     "data": {
      "image/png": "[encoded data removed]",
      "text/plain": [
       "<Figure size 432x288 with 1 Axes>"
      ]
     },
     "metadata": {
      "needs_background": "light"
     },
     "output_type": "display_data"
    },
    {
     "name": "stdout",
     "output_type": "stream",
     "text": [
      "======================================================================\n"
     ]
    }
   ],
   "source": [
    "#aplicando a função em todas as colunas categoricas\n",
    "for coluna in dados_cat:\n",
    "    print(f'Contagem dos valores para a coluna de {coluna}')\n",
    "    getcountplot(coluna)\n",
    "    print('='*70)"
   ]
  },
  {
   "cell_type": "markdown",
   "id": "107afc2b",
   "metadata": {},
   "source": [
    "- Como podemos notar, os valores não estão muito longe um do outro, está até que bem distribuidas nossas informações, com poucas categorias."
   ]
  },
  {
   "cell_type": "code",
   "execution_count": 19,
   "id": "537a0548",
   "metadata": {},
   "outputs": [
    {
     "data": {
      "text/plain": [
       "{'gender': {'M': 139, 'F': 76},\n",
       " 'ssc_b': {'Central': 116, 'Others': 99},\n",
       " 'hsc_b': {'Others': 131, 'Central': 84},\n",
       " 'hsc_s': {'Commerce': 113, 'Science': 91, 'Arts': 11},\n",
       " 'degree_t': {'Comm&Mgmt': 145, 'Sci&Tech': 59, 'Others': 11},\n",
       " 'workex': {'No': 141, 'Yes': 74},\n",
       " 'specialisation': {'Mkt&Fin': 120, 'Mkt&HR': 95},\n",
       " 'status': {'Placed': 148, 'Not Placed': 67}}"
      ]
     },
     "execution_count": 19,
     "metadata": {},
     "output_type": "execute_result"
    }
   ],
   "source": [
    "#Aplicando a função que retorna o dicionario\n",
    "countdict = {}\n",
    "for coluna in dados_cat:\n",
    "    countdict[coluna] = valuecounts(coluna)\n",
    "#Verificando\n",
    "countdict"
   ]
  },
  {
   "cell_type": "markdown",
   "id": "ee6dc22a",
   "metadata": {},
   "source": [
    "- Em posse desses dados gerais, podemos agora se aprofundar um pouco e ir para a areá de BI para responder algumas perguntas de negocio que são, top 5 Estudantes graduados em Sci&Tech e na Commerce, entre outras coisas."
   ]
  },
  {
   "cell_type": "code",
   "execution_count": 20,
   "id": "c45daf10",
   "metadata": {},
   "outputs": [
    {
     "data": {
      "text/html": [
       "<div>\n",
       "<style scoped>\n",
       "    .dataframe tbody tr th:only-of-type {\n",
       "        vertical-align: middle;\n",
       "    }\n",
       "\n",
       "    .dataframe tbody tr th {\n",
       "        vertical-align: top;\n",
       "    }\n",
       "\n",
       "    .dataframe thead th {\n",
       "        text-align: right;\n",
       "    }\n",
       "</style>\n",
       "<table border=\"1\" class=\"dataframe\">\n",
       "  <thead>\n",
       "    <tr style=\"text-align: right;\">\n",
       "      <th></th>\n",
       "      <th>index</th>\n",
       "      <th>sl_no</th>\n",
       "      <th>gender</th>\n",
       "      <th>ssc_p</th>\n",
       "      <th>ssc_b</th>\n",
       "      <th>hsc_p</th>\n",
       "      <th>hsc_b</th>\n",
       "      <th>hsc_s</th>\n",
       "      <th>degree_p</th>\n",
       "      <th>degree_t</th>\n",
       "      <th>workex</th>\n",
       "      <th>etest_p</th>\n",
       "      <th>specialisation</th>\n",
       "      <th>mba_p</th>\n",
       "      <th>status</th>\n",
       "      <th>salary</th>\n",
       "    </tr>\n",
       "  </thead>\n",
       "  <tbody>\n",
       "    <tr>\n",
       "      <th>0</th>\n",
       "      <td>150</td>\n",
       "      <td>151</td>\n",
       "      <td>M</td>\n",
       "      <td>71.00</td>\n",
       "      <td>Central</td>\n",
       "      <td>58.66</td>\n",
       "      <td>Central</td>\n",
       "      <td>Science</td>\n",
       "      <td>58.00</td>\n",
       "      <td>Sci&amp;Tech</td>\n",
       "      <td>Yes</td>\n",
       "      <td>56.0</td>\n",
       "      <td>Mkt&amp;Fin</td>\n",
       "      <td>61.30</td>\n",
       "      <td>Placed</td>\n",
       "      <td>690000.0</td>\n",
       "    </tr>\n",
       "    <tr>\n",
       "      <th>1</th>\n",
       "      <td>77</td>\n",
       "      <td>78</td>\n",
       "      <td>M</td>\n",
       "      <td>64.00</td>\n",
       "      <td>Others</td>\n",
       "      <td>80.00</td>\n",
       "      <td>Others</td>\n",
       "      <td>Science</td>\n",
       "      <td>65.00</td>\n",
       "      <td>Sci&amp;Tech</td>\n",
       "      <td>Yes</td>\n",
       "      <td>69.0</td>\n",
       "      <td>Mkt&amp;Fin</td>\n",
       "      <td>57.65</td>\n",
       "      <td>Placed</td>\n",
       "      <td>500000.0</td>\n",
       "    </tr>\n",
       "    <tr>\n",
       "      <th>2</th>\n",
       "      <td>163</td>\n",
       "      <td>164</td>\n",
       "      <td>M</td>\n",
       "      <td>63.00</td>\n",
       "      <td>Others</td>\n",
       "      <td>67.00</td>\n",
       "      <td>Others</td>\n",
       "      <td>Science</td>\n",
       "      <td>64.00</td>\n",
       "      <td>Sci&amp;Tech</td>\n",
       "      <td>No</td>\n",
       "      <td>75.0</td>\n",
       "      <td>Mkt&amp;Fin</td>\n",
       "      <td>66.46</td>\n",
       "      <td>Placed</td>\n",
       "      <td>500000.0</td>\n",
       "    </tr>\n",
       "    <tr>\n",
       "      <th>3</th>\n",
       "      <td>174</td>\n",
       "      <td>175</td>\n",
       "      <td>M</td>\n",
       "      <td>73.24</td>\n",
       "      <td>Others</td>\n",
       "      <td>50.83</td>\n",
       "      <td>Others</td>\n",
       "      <td>Science</td>\n",
       "      <td>64.27</td>\n",
       "      <td>Sci&amp;Tech</td>\n",
       "      <td>Yes</td>\n",
       "      <td>64.0</td>\n",
       "      <td>Mkt&amp;Fin</td>\n",
       "      <td>66.23</td>\n",
       "      <td>Placed</td>\n",
       "      <td>500000.0</td>\n",
       "    </tr>\n",
       "    <tr>\n",
       "      <th>4</th>\n",
       "      <td>53</td>\n",
       "      <td>54</td>\n",
       "      <td>M</td>\n",
       "      <td>80.00</td>\n",
       "      <td>Others</td>\n",
       "      <td>70.00</td>\n",
       "      <td>Others</td>\n",
       "      <td>Science</td>\n",
       "      <td>72.00</td>\n",
       "      <td>Sci&amp;Tech</td>\n",
       "      <td>No</td>\n",
       "      <td>87.0</td>\n",
       "      <td>Mkt&amp;HR</td>\n",
       "      <td>71.04</td>\n",
       "      <td>Placed</td>\n",
       "      <td>450000.0</td>\n",
       "    </tr>\n",
       "  </tbody>\n",
       "</table>\n",
       "</div>"
      ],
      "text/plain": [
       "   index  sl_no gender  ssc_p    ssc_b  hsc_p    hsc_b    hsc_s  degree_p  \\\n",
       "0    150    151      M  71.00  Central  58.66  Central  Science     58.00   \n",
       "1     77     78      M  64.00   Others  80.00   Others  Science     65.00   \n",
       "2    163    164      M  63.00   Others  67.00   Others  Science     64.00   \n",
       "3    174    175      M  73.24   Others  50.83   Others  Science     64.27   \n",
       "4     53     54      M  80.00   Others  70.00   Others  Science     72.00   \n",
       "\n",
       "   degree_t workex  etest_p specialisation  mba_p  status    salary  \n",
       "0  Sci&Tech    Yes     56.0        Mkt&Fin  61.30  Placed  690000.0  \n",
       "1  Sci&Tech    Yes     69.0        Mkt&Fin  57.65  Placed  500000.0  \n",
       "2  Sci&Tech     No     75.0        Mkt&Fin  66.46  Placed  500000.0  \n",
       "3  Sci&Tech    Yes     64.0        Mkt&Fin  66.23  Placed  500000.0  \n",
       "4  Sci&Tech     No     87.0         Mkt&HR  71.04  Placed  450000.0  "
      ]
     },
     "execution_count": 20,
     "metadata": {},
     "output_type": "execute_result"
    }
   ],
   "source": [
    "#Top 5 estudantes de Sci&Tech placed\n",
    "\n",
    "#Filtrando o df para pegar as informações de Sci&Tech e Placed\n",
    "filtro_df = df[ (df['degree_t']=='Sci&Tech') & (df['status']=='Placed')]\n",
    "\n",
    "#Ordernando os dados do maior para o menor segundo a coluna de salary\n",
    "filtro_df.sort_values(by='salary',ascending=False,inplace=True)\n",
    "\n",
    "#Resetando o index e pegando os top 5\n",
    "top_5 = filtro_df.reset_index().head(5)\n",
    "\n",
    "#Exibindo\n",
    "top_5"
   ]
  },
  {
   "cell_type": "markdown",
   "id": "5e92745b",
   "metadata": {},
   "source": [
    "- Interresante ver como a areá de science e predominate, os top 5 maiores valores são dela."
   ]
  },
  {
   "cell_type": "code",
   "execution_count": 21,
   "id": "e824d989",
   "metadata": {},
   "outputs": [
    {
     "data": {
      "text/html": [
       "<div>\n",
       "<style scoped>\n",
       "    .dataframe tbody tr th:only-of-type {\n",
       "        vertical-align: middle;\n",
       "    }\n",
       "\n",
       "    .dataframe tbody tr th {\n",
       "        vertical-align: top;\n",
       "    }\n",
       "\n",
       "    .dataframe thead th {\n",
       "        text-align: right;\n",
       "    }\n",
       "</style>\n",
       "<table border=\"1\" class=\"dataframe\">\n",
       "  <thead>\n",
       "    <tr style=\"text-align: right;\">\n",
       "      <th></th>\n",
       "      <th>index</th>\n",
       "      <th>sl_no</th>\n",
       "      <th>gender</th>\n",
       "      <th>ssc_p</th>\n",
       "      <th>ssc_b</th>\n",
       "      <th>hsc_p</th>\n",
       "      <th>hsc_b</th>\n",
       "      <th>hsc_s</th>\n",
       "      <th>degree_p</th>\n",
       "      <th>degree_t</th>\n",
       "      <th>workex</th>\n",
       "      <th>etest_p</th>\n",
       "      <th>specialisation</th>\n",
       "      <th>mba_p</th>\n",
       "      <th>status</th>\n",
       "      <th>salary</th>\n",
       "    </tr>\n",
       "  </thead>\n",
       "  <tbody>\n",
       "    <tr>\n",
       "      <th>0</th>\n",
       "      <td>119</td>\n",
       "      <td>120</td>\n",
       "      <td>M</td>\n",
       "      <td>60.8</td>\n",
       "      <td>Central</td>\n",
       "      <td>68.4</td>\n",
       "      <td>Central</td>\n",
       "      <td>Commerce</td>\n",
       "      <td>64.6</td>\n",
       "      <td>Comm&amp;Mgmt</td>\n",
       "      <td>Yes</td>\n",
       "      <td>82.66</td>\n",
       "      <td>Mkt&amp;Fin</td>\n",
       "      <td>64.34</td>\n",
       "      <td>Placed</td>\n",
       "      <td>940000.0</td>\n",
       "    </tr>\n",
       "    <tr>\n",
       "      <th>1</th>\n",
       "      <td>177</td>\n",
       "      <td>178</td>\n",
       "      <td>F</td>\n",
       "      <td>73.0</td>\n",
       "      <td>Central</td>\n",
       "      <td>97.0</td>\n",
       "      <td>Others</td>\n",
       "      <td>Commerce</td>\n",
       "      <td>79.0</td>\n",
       "      <td>Comm&amp;Mgmt</td>\n",
       "      <td>Yes</td>\n",
       "      <td>89.00</td>\n",
       "      <td>Mkt&amp;Fin</td>\n",
       "      <td>70.81</td>\n",
       "      <td>Placed</td>\n",
       "      <td>650000.0</td>\n",
       "    </tr>\n",
       "    <tr>\n",
       "      <th>2</th>\n",
       "      <td>4</td>\n",
       "      <td>5</td>\n",
       "      <td>M</td>\n",
       "      <td>85.8</td>\n",
       "      <td>Central</td>\n",
       "      <td>73.6</td>\n",
       "      <td>Central</td>\n",
       "      <td>Commerce</td>\n",
       "      <td>73.3</td>\n",
       "      <td>Comm&amp;Mgmt</td>\n",
       "      <td>No</td>\n",
       "      <td>96.80</td>\n",
       "      <td>Mkt&amp;Fin</td>\n",
       "      <td>55.50</td>\n",
       "      <td>Placed</td>\n",
       "      <td>425000.0</td>\n",
       "    </tr>\n",
       "    <tr>\n",
       "      <th>3</th>\n",
       "      <td>95</td>\n",
       "      <td>96</td>\n",
       "      <td>M</td>\n",
       "      <td>73.0</td>\n",
       "      <td>Central</td>\n",
       "      <td>78.0</td>\n",
       "      <td>Others</td>\n",
       "      <td>Commerce</td>\n",
       "      <td>65.0</td>\n",
       "      <td>Comm&amp;Mgmt</td>\n",
       "      <td>Yes</td>\n",
       "      <td>95.46</td>\n",
       "      <td>Mkt&amp;Fin</td>\n",
       "      <td>62.16</td>\n",
       "      <td>Placed</td>\n",
       "      <td>420000.0</td>\n",
       "    </tr>\n",
       "    <tr>\n",
       "      <th>4</th>\n",
       "      <td>210</td>\n",
       "      <td>211</td>\n",
       "      <td>M</td>\n",
       "      <td>80.6</td>\n",
       "      <td>Others</td>\n",
       "      <td>82.0</td>\n",
       "      <td>Others</td>\n",
       "      <td>Commerce</td>\n",
       "      <td>77.6</td>\n",
       "      <td>Comm&amp;Mgmt</td>\n",
       "      <td>No</td>\n",
       "      <td>91.00</td>\n",
       "      <td>Mkt&amp;Fin</td>\n",
       "      <td>74.49</td>\n",
       "      <td>Placed</td>\n",
       "      <td>400000.0</td>\n",
       "    </tr>\n",
       "  </tbody>\n",
       "</table>\n",
       "</div>"
      ],
      "text/plain": [
       "   index  sl_no gender  ssc_p    ssc_b  hsc_p    hsc_b     hsc_s  degree_p  \\\n",
       "0    119    120      M   60.8  Central   68.4  Central  Commerce      64.6   \n",
       "1    177    178      F   73.0  Central   97.0   Others  Commerce      79.0   \n",
       "2      4      5      M   85.8  Central   73.6  Central  Commerce      73.3   \n",
       "3     95     96      M   73.0  Central   78.0   Others  Commerce      65.0   \n",
       "4    210    211      M   80.6   Others   82.0   Others  Commerce      77.6   \n",
       "\n",
       "    degree_t workex  etest_p specialisation  mba_p  status    salary  \n",
       "0  Comm&Mgmt    Yes    82.66        Mkt&Fin  64.34  Placed  940000.0  \n",
       "1  Comm&Mgmt    Yes    89.00        Mkt&Fin  70.81  Placed  650000.0  \n",
       "2  Comm&Mgmt     No    96.80        Mkt&Fin  55.50  Placed  425000.0  \n",
       "3  Comm&Mgmt    Yes    95.46        Mkt&Fin  62.16  Placed  420000.0  \n",
       "4  Comm&Mgmt     No    91.00        Mkt&Fin  74.49  Placed  400000.0  "
      ]
     },
     "execution_count": 21,
     "metadata": {},
     "output_type": "execute_result"
    }
   ],
   "source": [
    "#Top 5 salarios de  Comm&Mgmt(Em uma unica linha de codigo.)\n",
    "\n",
    "top_Mg_5 = df[(df['degree_t']=='Comm&Mgmt') & (df['status'] == 'Placed')].sort_values(by='salary',ascending=False).reset_index().head(5)\n",
    "\n",
    "#Exibibindo\n",
    "top_Mg_5"
   ]
  },
  {
   "cell_type": "code",
   "execution_count": 22,
   "id": "65caed25",
   "metadata": {},
   "outputs": [
    {
     "data": {
      "text/html": [
       "<div>\n",
       "<style scoped>\n",
       "    .dataframe tbody tr th:only-of-type {\n",
       "        vertical-align: middle;\n",
       "    }\n",
       "\n",
       "    .dataframe tbody tr th {\n",
       "        vertical-align: top;\n",
       "    }\n",
       "\n",
       "    .dataframe thead th {\n",
       "        text-align: right;\n",
       "    }\n",
       "</style>\n",
       "<table border=\"1\" class=\"dataframe\">\n",
       "  <thead>\n",
       "    <tr style=\"text-align: right;\">\n",
       "      <th></th>\n",
       "      <th>index</th>\n",
       "      <th>sl_no</th>\n",
       "      <th>gender</th>\n",
       "      <th>ssc_p</th>\n",
       "      <th>ssc_b</th>\n",
       "      <th>hsc_p</th>\n",
       "      <th>hsc_b</th>\n",
       "      <th>hsc_s</th>\n",
       "      <th>degree_p</th>\n",
       "      <th>degree_t</th>\n",
       "      <th>workex</th>\n",
       "      <th>etest_p</th>\n",
       "      <th>specialisation</th>\n",
       "      <th>mba_p</th>\n",
       "      <th>status</th>\n",
       "      <th>salary</th>\n",
       "    </tr>\n",
       "  </thead>\n",
       "  <tbody>\n",
       "    <tr>\n",
       "      <th>0</th>\n",
       "      <td>150</td>\n",
       "      <td>151</td>\n",
       "      <td>M</td>\n",
       "      <td>71.00</td>\n",
       "      <td>Central</td>\n",
       "      <td>58.66</td>\n",
       "      <td>Central</td>\n",
       "      <td>Science</td>\n",
       "      <td>58.00</td>\n",
       "      <td>Sci&amp;Tech</td>\n",
       "      <td>Yes</td>\n",
       "      <td>56.00</td>\n",
       "      <td>Mkt&amp;Fin</td>\n",
       "      <td>61.30</td>\n",
       "      <td>Placed</td>\n",
       "      <td>690000.0</td>\n",
       "    </tr>\n",
       "    <tr>\n",
       "      <th>1</th>\n",
       "      <td>163</td>\n",
       "      <td>164</td>\n",
       "      <td>M</td>\n",
       "      <td>63.00</td>\n",
       "      <td>Others</td>\n",
       "      <td>67.00</td>\n",
       "      <td>Others</td>\n",
       "      <td>Science</td>\n",
       "      <td>64.00</td>\n",
       "      <td>Sci&amp;Tech</td>\n",
       "      <td>No</td>\n",
       "      <td>75.00</td>\n",
       "      <td>Mkt&amp;Fin</td>\n",
       "      <td>66.46</td>\n",
       "      <td>Placed</td>\n",
       "      <td>500000.0</td>\n",
       "    </tr>\n",
       "    <tr>\n",
       "      <th>2</th>\n",
       "      <td>77</td>\n",
       "      <td>78</td>\n",
       "      <td>M</td>\n",
       "      <td>64.00</td>\n",
       "      <td>Others</td>\n",
       "      <td>80.00</td>\n",
       "      <td>Others</td>\n",
       "      <td>Science</td>\n",
       "      <td>65.00</td>\n",
       "      <td>Sci&amp;Tech</td>\n",
       "      <td>Yes</td>\n",
       "      <td>69.00</td>\n",
       "      <td>Mkt&amp;Fin</td>\n",
       "      <td>57.65</td>\n",
       "      <td>Placed</td>\n",
       "      <td>500000.0</td>\n",
       "    </tr>\n",
       "    <tr>\n",
       "      <th>3</th>\n",
       "      <td>174</td>\n",
       "      <td>175</td>\n",
       "      <td>M</td>\n",
       "      <td>73.24</td>\n",
       "      <td>Others</td>\n",
       "      <td>50.83</td>\n",
       "      <td>Others</td>\n",
       "      <td>Science</td>\n",
       "      <td>64.27</td>\n",
       "      <td>Sci&amp;Tech</td>\n",
       "      <td>Yes</td>\n",
       "      <td>64.00</td>\n",
       "      <td>Mkt&amp;Fin</td>\n",
       "      <td>66.23</td>\n",
       "      <td>Placed</td>\n",
       "      <td>500000.0</td>\n",
       "    </tr>\n",
       "    <tr>\n",
       "      <th>4</th>\n",
       "      <td>53</td>\n",
       "      <td>54</td>\n",
       "      <td>M</td>\n",
       "      <td>80.00</td>\n",
       "      <td>Others</td>\n",
       "      <td>70.00</td>\n",
       "      <td>Others</td>\n",
       "      <td>Science</td>\n",
       "      <td>72.00</td>\n",
       "      <td>Sci&amp;Tech</td>\n",
       "      <td>No</td>\n",
       "      <td>87.00</td>\n",
       "      <td>Mkt&amp;HR</td>\n",
       "      <td>71.04</td>\n",
       "      <td>Placed</td>\n",
       "      <td>450000.0</td>\n",
       "    </tr>\n",
       "    <tr>\n",
       "      <th>5</th>\n",
       "      <td>39</td>\n",
       "      <td>40</td>\n",
       "      <td>M</td>\n",
       "      <td>81.00</td>\n",
       "      <td>Others</td>\n",
       "      <td>68.00</td>\n",
       "      <td>Others</td>\n",
       "      <td>Science</td>\n",
       "      <td>64.00</td>\n",
       "      <td>Sci&amp;Tech</td>\n",
       "      <td>No</td>\n",
       "      <td>93.00</td>\n",
       "      <td>Mkt&amp;Fin</td>\n",
       "      <td>62.56</td>\n",
       "      <td>Placed</td>\n",
       "      <td>411000.0</td>\n",
       "    </tr>\n",
       "    <tr>\n",
       "      <th>6</th>\n",
       "      <td>128</td>\n",
       "      <td>129</td>\n",
       "      <td>M</td>\n",
       "      <td>80.40</td>\n",
       "      <td>Central</td>\n",
       "      <td>73.40</td>\n",
       "      <td>Central</td>\n",
       "      <td>Science</td>\n",
       "      <td>77.72</td>\n",
       "      <td>Sci&amp;Tech</td>\n",
       "      <td>Yes</td>\n",
       "      <td>81.20</td>\n",
       "      <td>Mkt&amp;HR</td>\n",
       "      <td>76.26</td>\n",
       "      <td>Placed</td>\n",
       "      <td>400000.0</td>\n",
       "    </tr>\n",
       "    <tr>\n",
       "      <th>7</th>\n",
       "      <td>145</td>\n",
       "      <td>146</td>\n",
       "      <td>M</td>\n",
       "      <td>89.40</td>\n",
       "      <td>Others</td>\n",
       "      <td>65.66</td>\n",
       "      <td>Others</td>\n",
       "      <td>Science</td>\n",
       "      <td>71.25</td>\n",
       "      <td>Sci&amp;Tech</td>\n",
       "      <td>No</td>\n",
       "      <td>72.00</td>\n",
       "      <td>Mkt&amp;HR</td>\n",
       "      <td>63.23</td>\n",
       "      <td>Placed</td>\n",
       "      <td>400000.0</td>\n",
       "    </tr>\n",
       "    <tr>\n",
       "      <th>8</th>\n",
       "      <td>70</td>\n",
       "      <td>71</td>\n",
       "      <td>M</td>\n",
       "      <td>82.00</td>\n",
       "      <td>Others</td>\n",
       "      <td>61.00</td>\n",
       "      <td>Others</td>\n",
       "      <td>Science</td>\n",
       "      <td>62.00</td>\n",
       "      <td>Sci&amp;Tech</td>\n",
       "      <td>No</td>\n",
       "      <td>89.00</td>\n",
       "      <td>Mkt&amp;Fin</td>\n",
       "      <td>65.45</td>\n",
       "      <td>Placed</td>\n",
       "      <td>360000.0</td>\n",
       "    </tr>\n",
       "    <tr>\n",
       "      <th>9</th>\n",
       "      <td>24</td>\n",
       "      <td>25</td>\n",
       "      <td>M</td>\n",
       "      <td>76.50</td>\n",
       "      <td>Others</td>\n",
       "      <td>97.70</td>\n",
       "      <td>Others</td>\n",
       "      <td>Science</td>\n",
       "      <td>78.86</td>\n",
       "      <td>Sci&amp;Tech</td>\n",
       "      <td>No</td>\n",
       "      <td>97.40</td>\n",
       "      <td>Mkt&amp;Fin</td>\n",
       "      <td>74.01</td>\n",
       "      <td>Placed</td>\n",
       "      <td>360000.0</td>\n",
       "    </tr>\n",
       "    <tr>\n",
       "      <th>10</th>\n",
       "      <td>22</td>\n",
       "      <td>23</td>\n",
       "      <td>F</td>\n",
       "      <td>69.80</td>\n",
       "      <td>Others</td>\n",
       "      <td>60.80</td>\n",
       "      <td>Others</td>\n",
       "      <td>Science</td>\n",
       "      <td>72.23</td>\n",
       "      <td>Sci&amp;Tech</td>\n",
       "      <td>No</td>\n",
       "      <td>55.53</td>\n",
       "      <td>Mkt&amp;HR</td>\n",
       "      <td>68.81</td>\n",
       "      <td>Placed</td>\n",
       "      <td>360000.0</td>\n",
       "    </tr>\n",
       "    <tr>\n",
       "      <th>11</th>\n",
       "      <td>178</td>\n",
       "      <td>179</td>\n",
       "      <td>M</td>\n",
       "      <td>68.00</td>\n",
       "      <td>Others</td>\n",
       "      <td>56.00</td>\n",
       "      <td>Others</td>\n",
       "      <td>Science</td>\n",
       "      <td>68.00</td>\n",
       "      <td>Sci&amp;Tech</td>\n",
       "      <td>No</td>\n",
       "      <td>73.00</td>\n",
       "      <td>Mkt&amp;HR</td>\n",
       "      <td>68.07</td>\n",
       "      <td>Placed</td>\n",
       "      <td>350000.0</td>\n",
       "    </tr>\n",
       "    <tr>\n",
       "      <th>12</th>\n",
       "      <td>153</td>\n",
       "      <td>154</td>\n",
       "      <td>M</td>\n",
       "      <td>49.00</td>\n",
       "      <td>Others</td>\n",
       "      <td>59.00</td>\n",
       "      <td>Others</td>\n",
       "      <td>Science</td>\n",
       "      <td>65.00</td>\n",
       "      <td>Sci&amp;Tech</td>\n",
       "      <td>Yes</td>\n",
       "      <td>86.00</td>\n",
       "      <td>Mkt&amp;Fin</td>\n",
       "      <td>62.48</td>\n",
       "      <td>Placed</td>\n",
       "      <td>340000.0</td>\n",
       "    </tr>\n",
       "    <tr>\n",
       "      <th>13</th>\n",
       "      <td>37</td>\n",
       "      <td>38</td>\n",
       "      <td>F</td>\n",
       "      <td>79.00</td>\n",
       "      <td>Central</td>\n",
       "      <td>76.00</td>\n",
       "      <td>Central</td>\n",
       "      <td>Science</td>\n",
       "      <td>65.60</td>\n",
       "      <td>Sci&amp;Tech</td>\n",
       "      <td>No</td>\n",
       "      <td>58.00</td>\n",
       "      <td>Mkt&amp;HR</td>\n",
       "      <td>55.47</td>\n",
       "      <td>Placed</td>\n",
       "      <td>320000.0</td>\n",
       "    </tr>\n",
       "    <tr>\n",
       "      <th>14</th>\n",
       "      <td>175</td>\n",
       "      <td>176</td>\n",
       "      <td>M</td>\n",
       "      <td>63.00</td>\n",
       "      <td>Others</td>\n",
       "      <td>62.00</td>\n",
       "      <td>Others</td>\n",
       "      <td>Science</td>\n",
       "      <td>65.00</td>\n",
       "      <td>Sci&amp;Tech</td>\n",
       "      <td>No</td>\n",
       "      <td>87.50</td>\n",
       "      <td>Mkt&amp;HR</td>\n",
       "      <td>60.69</td>\n",
       "      <td>Not Placed</td>\n",
       "      <td>300000.0</td>\n",
       "    </tr>\n",
       "    <tr>\n",
       "      <th>15</th>\n",
       "      <td>173</td>\n",
       "      <td>174</td>\n",
       "      <td>F</td>\n",
       "      <td>52.00</td>\n",
       "      <td>Others</td>\n",
       "      <td>52.00</td>\n",
       "      <td>Others</td>\n",
       "      <td>Science</td>\n",
       "      <td>55.00</td>\n",
       "      <td>Sci&amp;Tech</td>\n",
       "      <td>No</td>\n",
       "      <td>67.00</td>\n",
       "      <td>Mkt&amp;HR</td>\n",
       "      <td>59.32</td>\n",
       "      <td>Not Placed</td>\n",
       "      <td>300000.0</td>\n",
       "    </tr>\n",
       "    <tr>\n",
       "      <th>16</th>\n",
       "      <td>169</td>\n",
       "      <td>170</td>\n",
       "      <td>M</td>\n",
       "      <td>59.96</td>\n",
       "      <td>Others</td>\n",
       "      <td>42.16</td>\n",
       "      <td>Others</td>\n",
       "      <td>Science</td>\n",
       "      <td>61.26</td>\n",
       "      <td>Sci&amp;Tech</td>\n",
       "      <td>No</td>\n",
       "      <td>54.48</td>\n",
       "      <td>Mkt&amp;HR</td>\n",
       "      <td>65.48</td>\n",
       "      <td>Not Placed</td>\n",
       "      <td>300000.0</td>\n",
       "    </tr>\n",
       "    <tr>\n",
       "      <th>17</th>\n",
       "      <td>167</td>\n",
       "      <td>168</td>\n",
       "      <td>M</td>\n",
       "      <td>67.90</td>\n",
       "      <td>Others</td>\n",
       "      <td>62.00</td>\n",
       "      <td>Others</td>\n",
       "      <td>Science</td>\n",
       "      <td>67.00</td>\n",
       "      <td>Sci&amp;Tech</td>\n",
       "      <td>Yes</td>\n",
       "      <td>58.10</td>\n",
       "      <td>Mkt&amp;Fin</td>\n",
       "      <td>75.71</td>\n",
       "      <td>Not Placed</td>\n",
       "      <td>300000.0</td>\n",
       "    </tr>\n",
       "    <tr>\n",
       "      <th>18</th>\n",
       "      <td>179</td>\n",
       "      <td>180</td>\n",
       "      <td>F</td>\n",
       "      <td>77.80</td>\n",
       "      <td>Central</td>\n",
       "      <td>64.00</td>\n",
       "      <td>Central</td>\n",
       "      <td>Science</td>\n",
       "      <td>64.20</td>\n",
       "      <td>Sci&amp;Tech</td>\n",
       "      <td>No</td>\n",
       "      <td>75.50</td>\n",
       "      <td>Mkt&amp;HR</td>\n",
       "      <td>72.14</td>\n",
       "      <td>Not Placed</td>\n",
       "      <td>300000.0</td>\n",
       "    </tr>\n",
       "    <tr>\n",
       "      <th>19</th>\n",
       "      <td>160</td>\n",
       "      <td>161</td>\n",
       "      <td>M</td>\n",
       "      <td>87.00</td>\n",
       "      <td>Central</td>\n",
       "      <td>74.00</td>\n",
       "      <td>Central</td>\n",
       "      <td>Science</td>\n",
       "      <td>65.00</td>\n",
       "      <td>Sci&amp;Tech</td>\n",
       "      <td>Yes</td>\n",
       "      <td>75.00</td>\n",
       "      <td>Mkt&amp;HR</td>\n",
       "      <td>72.29</td>\n",
       "      <td>Placed</td>\n",
       "      <td>300000.0</td>\n",
       "    </tr>\n",
       "    <tr>\n",
       "      <th>20</th>\n",
       "      <td>158</td>\n",
       "      <td>159</td>\n",
       "      <td>M</td>\n",
       "      <td>67.00</td>\n",
       "      <td>Others</td>\n",
       "      <td>63.00</td>\n",
       "      <td>Others</td>\n",
       "      <td>Science</td>\n",
       "      <td>64.00</td>\n",
       "      <td>Sci&amp;Tech</td>\n",
       "      <td>No</td>\n",
       "      <td>60.00</td>\n",
       "      <td>Mkt&amp;Fin</td>\n",
       "      <td>61.87</td>\n",
       "      <td>Not Placed</td>\n",
       "      <td>300000.0</td>\n",
       "    </tr>\n",
       "    <tr>\n",
       "      <th>21</th>\n",
       "      <td>3</td>\n",
       "      <td>4</td>\n",
       "      <td>M</td>\n",
       "      <td>56.00</td>\n",
       "      <td>Central</td>\n",
       "      <td>52.00</td>\n",
       "      <td>Central</td>\n",
       "      <td>Science</td>\n",
       "      <td>52.00</td>\n",
       "      <td>Sci&amp;Tech</td>\n",
       "      <td>No</td>\n",
       "      <td>66.00</td>\n",
       "      <td>Mkt&amp;HR</td>\n",
       "      <td>59.43</td>\n",
       "      <td>Not Placed</td>\n",
       "      <td>300000.0</td>\n",
       "    </tr>\n",
       "    <tr>\n",
       "      <th>22</th>\n",
       "      <td>106</td>\n",
       "      <td>107</td>\n",
       "      <td>M</td>\n",
       "      <td>61.08</td>\n",
       "      <td>Others</td>\n",
       "      <td>50.00</td>\n",
       "      <td>Others</td>\n",
       "      <td>Science</td>\n",
       "      <td>54.00</td>\n",
       "      <td>Sci&amp;Tech</td>\n",
       "      <td>No</td>\n",
       "      <td>71.00</td>\n",
       "      <td>Mkt&amp;Fin</td>\n",
       "      <td>65.69</td>\n",
       "      <td>Not Placed</td>\n",
       "      <td>300000.0</td>\n",
       "    </tr>\n",
       "    <tr>\n",
       "      <th>23</th>\n",
       "      <td>111</td>\n",
       "      <td>112</td>\n",
       "      <td>M</td>\n",
       "      <td>51.00</td>\n",
       "      <td>Others</td>\n",
       "      <td>54.00</td>\n",
       "      <td>Others</td>\n",
       "      <td>Science</td>\n",
       "      <td>61.00</td>\n",
       "      <td>Sci&amp;Tech</td>\n",
       "      <td>No</td>\n",
       "      <td>60.00</td>\n",
       "      <td>Mkt&amp;HR</td>\n",
       "      <td>60.64</td>\n",
       "      <td>Not Placed</td>\n",
       "      <td>300000.0</td>\n",
       "    </tr>\n",
       "    <tr>\n",
       "      <th>24</th>\n",
       "      <td>109</td>\n",
       "      <td>110</td>\n",
       "      <td>M</td>\n",
       "      <td>52.00</td>\n",
       "      <td>Central</td>\n",
       "      <td>63.00</td>\n",
       "      <td>Others</td>\n",
       "      <td>Science</td>\n",
       "      <td>65.00</td>\n",
       "      <td>Sci&amp;Tech</td>\n",
       "      <td>Yes</td>\n",
       "      <td>86.00</td>\n",
       "      <td>Mkt&amp;HR</td>\n",
       "      <td>56.09</td>\n",
       "      <td>Not Placed</td>\n",
       "      <td>300000.0</td>\n",
       "    </tr>\n",
       "    <tr>\n",
       "      <th>25</th>\n",
       "      <td>5</td>\n",
       "      <td>6</td>\n",
       "      <td>M</td>\n",
       "      <td>55.00</td>\n",
       "      <td>Others</td>\n",
       "      <td>49.80</td>\n",
       "      <td>Others</td>\n",
       "      <td>Science</td>\n",
       "      <td>67.25</td>\n",
       "      <td>Sci&amp;Tech</td>\n",
       "      <td>Yes</td>\n",
       "      <td>55.00</td>\n",
       "      <td>Mkt&amp;Fin</td>\n",
       "      <td>51.58</td>\n",
       "      <td>Not Placed</td>\n",
       "      <td>300000.0</td>\n",
       "    </tr>\n",
       "    <tr>\n",
       "      <th>26</th>\n",
       "      <td>105</td>\n",
       "      <td>106</td>\n",
       "      <td>M</td>\n",
       "      <td>59.00</td>\n",
       "      <td>Central</td>\n",
       "      <td>64.00</td>\n",
       "      <td>Others</td>\n",
       "      <td>Science</td>\n",
       "      <td>58.00</td>\n",
       "      <td>Sci&amp;Tech</td>\n",
       "      <td>No</td>\n",
       "      <td>85.00</td>\n",
       "      <td>Mkt&amp;HR</td>\n",
       "      <td>55.30</td>\n",
       "      <td>Not Placed</td>\n",
       "      <td>300000.0</td>\n",
       "    </tr>\n",
       "    <tr>\n",
       "      <th>27</th>\n",
       "      <td>99</td>\n",
       "      <td>100</td>\n",
       "      <td>M</td>\n",
       "      <td>54.00</td>\n",
       "      <td>Central</td>\n",
       "      <td>82.00</td>\n",
       "      <td>Others</td>\n",
       "      <td>Commerce</td>\n",
       "      <td>63.00</td>\n",
       "      <td>Sci&amp;Tech</td>\n",
       "      <td>No</td>\n",
       "      <td>50.00</td>\n",
       "      <td>Mkt&amp;Fin</td>\n",
       "      <td>59.47</td>\n",
       "      <td>Not Placed</td>\n",
       "      <td>300000.0</td>\n",
       "    </tr>\n",
       "    <tr>\n",
       "      <th>28</th>\n",
       "      <td>84</td>\n",
       "      <td>85</td>\n",
       "      <td>M</td>\n",
       "      <td>70.00</td>\n",
       "      <td>Central</td>\n",
       "      <td>63.00</td>\n",
       "      <td>Others</td>\n",
       "      <td>Science</td>\n",
       "      <td>70.00</td>\n",
       "      <td>Sci&amp;Tech</td>\n",
       "      <td>Yes</td>\n",
       "      <td>55.00</td>\n",
       "      <td>Mkt&amp;Fin</td>\n",
       "      <td>62.00</td>\n",
       "      <td>Placed</td>\n",
       "      <td>300000.0</td>\n",
       "    </tr>\n",
       "    <tr>\n",
       "      <th>29</th>\n",
       "      <td>83</td>\n",
       "      <td>84</td>\n",
       "      <td>M</td>\n",
       "      <td>84.00</td>\n",
       "      <td>Others</td>\n",
       "      <td>79.00</td>\n",
       "      <td>Others</td>\n",
       "      <td>Science</td>\n",
       "      <td>68.00</td>\n",
       "      <td>Sci&amp;Tech</td>\n",
       "      <td>Yes</td>\n",
       "      <td>84.00</td>\n",
       "      <td>Mkt&amp;Fin</td>\n",
       "      <td>66.69</td>\n",
       "      <td>Placed</td>\n",
       "      <td>300000.0</td>\n",
       "    </tr>\n",
       "    <tr>\n",
       "      <th>30</th>\n",
       "      <td>79</td>\n",
       "      <td>80</td>\n",
       "      <td>F</td>\n",
       "      <td>69.00</td>\n",
       "      <td>Central</td>\n",
       "      <td>62.00</td>\n",
       "      <td>Central</td>\n",
       "      <td>Science</td>\n",
       "      <td>66.00</td>\n",
       "      <td>Sci&amp;Tech</td>\n",
       "      <td>No</td>\n",
       "      <td>75.00</td>\n",
       "      <td>Mkt&amp;HR</td>\n",
       "      <td>67.99</td>\n",
       "      <td>Not Placed</td>\n",
       "      <td>300000.0</td>\n",
       "    </tr>\n",
       "    <tr>\n",
       "      <th>31</th>\n",
       "      <td>68</td>\n",
       "      <td>69</td>\n",
       "      <td>F</td>\n",
       "      <td>69.70</td>\n",
       "      <td>Central</td>\n",
       "      <td>47.00</td>\n",
       "      <td>Central</td>\n",
       "      <td>Commerce</td>\n",
       "      <td>72.70</td>\n",
       "      <td>Sci&amp;Tech</td>\n",
       "      <td>No</td>\n",
       "      <td>79.00</td>\n",
       "      <td>Mkt&amp;HR</td>\n",
       "      <td>59.24</td>\n",
       "      <td>Not Placed</td>\n",
       "      <td>300000.0</td>\n",
       "    </tr>\n",
       "    <tr>\n",
       "      <th>32</th>\n",
       "      <td>45</td>\n",
       "      <td>46</td>\n",
       "      <td>F</td>\n",
       "      <td>76.00</td>\n",
       "      <td>Central</td>\n",
       "      <td>64.00</td>\n",
       "      <td>Central</td>\n",
       "      <td>Science</td>\n",
       "      <td>72.00</td>\n",
       "      <td>Sci&amp;Tech</td>\n",
       "      <td>No</td>\n",
       "      <td>58.00</td>\n",
       "      <td>Mkt&amp;HR</td>\n",
       "      <td>66.53</td>\n",
       "      <td>Not Placed</td>\n",
       "      <td>300000.0</td>\n",
       "    </tr>\n",
       "    <tr>\n",
       "      <th>33</th>\n",
       "      <td>31</td>\n",
       "      <td>32</td>\n",
       "      <td>F</td>\n",
       "      <td>67.00</td>\n",
       "      <td>Central</td>\n",
       "      <td>53.00</td>\n",
       "      <td>Central</td>\n",
       "      <td>Science</td>\n",
       "      <td>65.00</td>\n",
       "      <td>Sci&amp;Tech</td>\n",
       "      <td>No</td>\n",
       "      <td>64.00</td>\n",
       "      <td>Mkt&amp;HR</td>\n",
       "      <td>58.32</td>\n",
       "      <td>Not Placed</td>\n",
       "      <td>300000.0</td>\n",
       "    </tr>\n",
       "    <tr>\n",
       "      <th>34</th>\n",
       "      <td>23</td>\n",
       "      <td>24</td>\n",
       "      <td>F</td>\n",
       "      <td>77.40</td>\n",
       "      <td>Others</td>\n",
       "      <td>60.00</td>\n",
       "      <td>Others</td>\n",
       "      <td>Science</td>\n",
       "      <td>64.74</td>\n",
       "      <td>Sci&amp;Tech</td>\n",
       "      <td>Yes</td>\n",
       "      <td>92.00</td>\n",
       "      <td>Mkt&amp;Fin</td>\n",
       "      <td>63.62</td>\n",
       "      <td>Placed</td>\n",
       "      <td>300000.0</td>\n",
       "    </tr>\n",
       "    <tr>\n",
       "      <th>35</th>\n",
       "      <td>181</td>\n",
       "      <td>182</td>\n",
       "      <td>M</td>\n",
       "      <td>62.00</td>\n",
       "      <td>Central</td>\n",
       "      <td>60.33</td>\n",
       "      <td>Others</td>\n",
       "      <td>Science</td>\n",
       "      <td>64.21</td>\n",
       "      <td>Sci&amp;Tech</td>\n",
       "      <td>No</td>\n",
       "      <td>63.00</td>\n",
       "      <td>Mkt&amp;HR</td>\n",
       "      <td>60.02</td>\n",
       "      <td>Not Placed</td>\n",
       "      <td>300000.0</td>\n",
       "    </tr>\n",
       "  </tbody>\n",
       "</table>\n",
       "</div>"
      ],
      "text/plain": [
       "    index  sl_no gender  ssc_p    ssc_b  hsc_p    hsc_b     hsc_s  degree_p  \\\n",
       "0     150    151      M  71.00  Central  58.66  Central   Science     58.00   \n",
       "1     163    164      M  63.00   Others  67.00   Others   Science     64.00   \n",
       "2      77     78      M  64.00   Others  80.00   Others   Science     65.00   \n",
       "3     174    175      M  73.24   Others  50.83   Others   Science     64.27   \n",
       "4      53     54      M  80.00   Others  70.00   Others   Science     72.00   \n",
       "5      39     40      M  81.00   Others  68.00   Others   Science     64.00   \n",
       "6     128    129      M  80.40  Central  73.40  Central   Science     77.72   \n",
       "7     145    146      M  89.40   Others  65.66   Others   Science     71.25   \n",
       "8      70     71      M  82.00   Others  61.00   Others   Science     62.00   \n",
       "9      24     25      M  76.50   Others  97.70   Others   Science     78.86   \n",
       "10     22     23      F  69.80   Others  60.80   Others   Science     72.23   \n",
       "11    178    179      M  68.00   Others  56.00   Others   Science     68.00   \n",
       "12    153    154      M  49.00   Others  59.00   Others   Science     65.00   \n",
       "13     37     38      F  79.00  Central  76.00  Central   Science     65.60   \n",
       "14    175    176      M  63.00   Others  62.00   Others   Science     65.00   \n",
       "15    173    174      F  52.00   Others  52.00   Others   Science     55.00   \n",
       "16    169    170      M  59.96   Others  42.16   Others   Science     61.26   \n",
       "17    167    168      M  67.90   Others  62.00   Others   Science     67.00   \n",
       "18    179    180      F  77.80  Central  64.00  Central   Science     64.20   \n",
       "19    160    161      M  87.00  Central  74.00  Central   Science     65.00   \n",
       "20    158    159      M  67.00   Others  63.00   Others   Science     64.00   \n",
       "21      3      4      M  56.00  Central  52.00  Central   Science     52.00   \n",
       "22    106    107      M  61.08   Others  50.00   Others   Science     54.00   \n",
       "23    111    112      M  51.00   Others  54.00   Others   Science     61.00   \n",
       "24    109    110      M  52.00  Central  63.00   Others   Science     65.00   \n",
       "25      5      6      M  55.00   Others  49.80   Others   Science     67.25   \n",
       "26    105    106      M  59.00  Central  64.00   Others   Science     58.00   \n",
       "27     99    100      M  54.00  Central  82.00   Others  Commerce     63.00   \n",
       "28     84     85      M  70.00  Central  63.00   Others   Science     70.00   \n",
       "29     83     84      M  84.00   Others  79.00   Others   Science     68.00   \n",
       "30     79     80      F  69.00  Central  62.00  Central   Science     66.00   \n",
       "31     68     69      F  69.70  Central  47.00  Central  Commerce     72.70   \n",
       "32     45     46      F  76.00  Central  64.00  Central   Science     72.00   \n",
       "33     31     32      F  67.00  Central  53.00  Central   Science     65.00   \n",
       "34     23     24      F  77.40   Others  60.00   Others   Science     64.74   \n",
       "35    181    182      M  62.00  Central  60.33   Others   Science     64.21   \n",
       "\n",
       "    degree_t workex  etest_p specialisation  mba_p      status    salary  \n",
       "0   Sci&Tech    Yes    56.00        Mkt&Fin  61.30      Placed  690000.0  \n",
       "1   Sci&Tech     No    75.00        Mkt&Fin  66.46      Placed  500000.0  \n",
       "2   Sci&Tech    Yes    69.00        Mkt&Fin  57.65      Placed  500000.0  \n",
       "3   Sci&Tech    Yes    64.00        Mkt&Fin  66.23      Placed  500000.0  \n",
       "4   Sci&Tech     No    87.00         Mkt&HR  71.04      Placed  450000.0  \n",
       "5   Sci&Tech     No    93.00        Mkt&Fin  62.56      Placed  411000.0  \n",
       "6   Sci&Tech    Yes    81.20         Mkt&HR  76.26      Placed  400000.0  \n",
       "7   Sci&Tech     No    72.00         Mkt&HR  63.23      Placed  400000.0  \n",
       "8   Sci&Tech     No    89.00        Mkt&Fin  65.45      Placed  360000.0  \n",
       "9   Sci&Tech     No    97.40        Mkt&Fin  74.01      Placed  360000.0  \n",
       "10  Sci&Tech     No    55.53         Mkt&HR  68.81      Placed  360000.0  \n",
       "11  Sci&Tech     No    73.00         Mkt&HR  68.07      Placed  350000.0  \n",
       "12  Sci&Tech    Yes    86.00        Mkt&Fin  62.48      Placed  340000.0  \n",
       "13  Sci&Tech     No    58.00         Mkt&HR  55.47      Placed  320000.0  \n",
       "14  Sci&Tech     No    87.50         Mkt&HR  60.69  Not Placed  300000.0  \n",
       "15  Sci&Tech     No    67.00         Mkt&HR  59.32  Not Placed  300000.0  \n",
       "16  Sci&Tech     No    54.48         Mkt&HR  65.48  Not Placed  300000.0  \n",
       "17  Sci&Tech    Yes    58.10        Mkt&Fin  75.71  Not Placed  300000.0  \n",
       "18  Sci&Tech     No    75.50         Mkt&HR  72.14  Not Placed  300000.0  \n",
       "19  Sci&Tech    Yes    75.00         Mkt&HR  72.29      Placed  300000.0  \n",
       "20  Sci&Tech     No    60.00        Mkt&Fin  61.87  Not Placed  300000.0  \n",
       "21  Sci&Tech     No    66.00         Mkt&HR  59.43  Not Placed  300000.0  \n",
       "22  Sci&Tech     No    71.00        Mkt&Fin  65.69  Not Placed  300000.0  \n",
       "23  Sci&Tech     No    60.00         Mkt&HR  60.64  Not Placed  300000.0  \n",
       "24  Sci&Tech    Yes    86.00         Mkt&HR  56.09  Not Placed  300000.0  \n",
       "25  Sci&Tech    Yes    55.00        Mkt&Fin  51.58  Not Placed  300000.0  \n",
       "26  Sci&Tech     No    85.00         Mkt&HR  55.30  Not Placed  300000.0  \n",
       "27  Sci&Tech     No    50.00        Mkt&Fin  59.47  Not Placed  300000.0  \n",
       "28  Sci&Tech    Yes    55.00        Mkt&Fin  62.00      Placed  300000.0  \n",
       "29  Sci&Tech    Yes    84.00        Mkt&Fin  66.69      Placed  300000.0  \n",
       "30  Sci&Tech     No    75.00         Mkt&HR  67.99  Not Placed  300000.0  \n",
       "31  Sci&Tech     No    79.00         Mkt&HR  59.24  Not Placed  300000.0  \n",
       "32  Sci&Tech     No    58.00         Mkt&HR  66.53  Not Placed  300000.0  \n",
       "33  Sci&Tech     No    64.00         Mkt&HR  58.32  Not Placed  300000.0  \n",
       "34  Sci&Tech    Yes    92.00        Mkt&Fin  63.62      Placed  300000.0  \n",
       "35  Sci&Tech     No    63.00         Mkt&HR  60.02  Not Placed  300000.0  "
      ]
     },
     "execution_count": 22,
     "metadata": {},
     "output_type": "execute_result"
    }
   ],
   "source": [
    "#Estudantes de Sci&Tech que possui o salario acima da média\n",
    "df[(df['degree_t']=='Sci&Tech')&(df['salary']>df['salary'].mean())].sort_values(by='salary',ascending=False).reset_index()"
   ]
  },
  {
   "cell_type": "markdown",
   "id": "aa0bb5a1",
   "metadata": {},
   "source": [
    "- Como podemos ver, mesmo com poucos dados nos conseguimos tirar muita informação dele, pois podemos fazer a contagem, somar entre outras coisas, para resolver poblemas de negocio como esse que eu fiz acima, analises boas e relevantes para alguma certa areá tudo depende da areá e embora não seja esse meu objetivo e no futuro possa ter que fazer analises mais profundas nos dados, mas ai e melhor com o POWER BI"
   ]
  },
  {
   "cell_type": "markdown",
   "id": "1eda96b5",
   "metadata": {},
   "source": [
    "---"
   ]
  },
  {
   "cell_type": "code",
   "execution_count": 23,
   "id": "18e916ad",
   "metadata": {},
   "outputs": [
    {
     "data": {
      "image/png": "[encoded data removed]",
      "text/plain": [
       "<Figure size 432x288 with 1 Axes>"
      ]
     },
     "metadata": {
      "needs_background": "light"
     },
     "output_type": "display_data"
    }
   ],
   "source": [
    "#Grafico com a contagem de valores de degree_t, vou usar o group by agora para poder plotar os graficos\n",
    "df.groupby('specialisation')['status'].count().plot(kind='bar',color='magenta');"
   ]
  },
  {
   "cell_type": "code",
   "execution_count": 24,
   "id": "e57236ac",
   "metadata": {},
   "outputs": [
    {
     "data": {
      "image/png": "[encoded data removed]",
      "text/plain": [
       "<Figure size 432x288 with 1 Axes>"
      ]
     },
     "metadata": {},
     "output_type": "display_data"
    }
   ],
   "source": [
    "#Verificando a porcentagem de cada genero\n",
    "df.groupby('gender')['status'].count().plot(kind='pie',autopct='%1.0f%%');"
   ]
  },
  {
   "cell_type": "code",
   "execution_count": 25,
   "id": "b4a944c3",
   "metadata": {},
   "outputs": [
    {
     "data": {
      "image/png": "[encoded data removed]",
      "text/plain": [
       "<Figure size 1080x504 with 1 Axes>"
      ]
     },
     "metadata": {},
     "output_type": "display_data"
    }
   ],
   "source": [
    "#Verificando agora o hsc_s\n",
    "df.groupby('hsc_s')['status'].count().plot(kind='pie',autopct='%1.0f%%',figsize=(15,7));"
   ]
  },
  {
   "cell_type": "markdown",
   "id": "ecbfb482",
   "metadata": {},
   "source": [
    "---"
   ]
  },
  {
   "cell_type": "markdown",
   "id": "ed23d386",
   "metadata": {},
   "source": [
    "#### Analise das colunas numericas"
   ]
  },
  {
   "cell_type": "code",
   "execution_count": 26,
   "id": "2c401d4e",
   "metadata": {
    "scrolled": false
   },
   "outputs": [
    {
     "name": "stdout",
     "output_type": "stream",
     "text": [
      "Graficos de distribuição para a coluna ssc_p\n"
     ]
    },
    {
     "data": {
      "image/png": "[encoded data removed]",
      "text/plain": [
       "<Figure size 1080x504 with 3 Axes>"
      ]
     },
     "metadata": {
      "needs_background": "light"
     },
     "output_type": "display_data"
    },
    {
     "name": "stdout",
     "output_type": "stream",
     "text": [
      "==========\n",
      "Graficos de distribuição para a coluna hsc_p\n"
     ]
    },
    {
     "data": {
      "image/png": "[encoded data removed]",
      "text/plain": [
       "<Figure size 1080x504 with 3 Axes>"
      ]
     },
     "metadata": {
      "needs_background": "light"
     },
     "output_type": "display_data"
    },
    {
     "name": "stdout",
     "output_type": "stream",
     "text": [
      "==========\n",
      "Graficos de distribuição para a coluna degree_p\n"
     ]
    },
    {
     "data": {
      "image/png": "[encoded data removed]",
      "text/plain": [
       "<Figure size 1080x504 with 3 Axes>"
      ]
     },
     "metadata": {
      "needs_background": "light"
     },
     "output_type": "display_data"
    },
    {
     "name": "stdout",
     "output_type": "stream",
     "text": [
      "==========\n",
      "Graficos de distribuição para a coluna etest_p\n"
     ]
    },
    {
     "data": {
      "image/png": "[encoded data removed]",
      "text/plain": [
       "<Figure size 1080x504 with 3 Axes>"
      ]
     },
     "metadata": {
      "needs_background": "light"
     },
     "output_type": "display_data"
    },
    {
     "name": "stdout",
     "output_type": "stream",
     "text": [
      "==========\n",
      "Graficos de distribuição para a coluna mba_p\n"
     ]
    },
    {
     "data": {
      "image/png": "[encoded data removed]",
      "text/plain": [
       "<Figure size 1080x504 with 3 Axes>"
      ]
     },
     "metadata": {
      "needs_background": "light"
     },
     "output_type": "display_data"
    },
    {
     "name": "stdout",
     "output_type": "stream",
     "text": [
      "==========\n",
      "Graficos de distribuição para a coluna salary\n"
     ]
    },
    {
     "data": {
      "image/png": "[encoded data removed]",
      "text/plain": [
       "<Figure size 1080x504 with 3 Axes>"
      ]
     },
     "metadata": {
      "needs_background": "light"
     },
     "output_type": "display_data"
    },
    {
     "name": "stdout",
     "output_type": "stream",
     "text": [
      "==========\n"
     ]
    }
   ],
   "source": [
    "import scipy.stats as stats\n",
    "\n",
    "\n",
    "def distplots(df,coluna):\n",
    "    \n",
    "    #Primeiro Grafico\n",
    "    plt.figure(figsize=(15,7))\n",
    "    plt.subplot(1,3,1)\n",
    "    plt.hist(df[coluna],color='magenta')\n",
    "    \n",
    "    #Segundo grafico\n",
    "    plt.subplot(1,3,2)\n",
    "    stats.probplot(df[coluna], dist='norm',plot=plt)\n",
    "    \n",
    "    #Terceiro grafico\n",
    "    plt.subplot(1,3,3)\n",
    "    sns.boxplot(df[coluna],color='magenta')\n",
    "    \n",
    "    plt.show()\n",
    "\n",
    "\n",
    "for coluna in dados_num[1:]:\n",
    "    print(f'Graficos de distribuição para a coluna {coluna}')\n",
    "    distplots(df,coluna)\n",
    "    print('='*10)"
   ]
  },
  {
   "cell_type": "markdown",
   "id": "4717abba",
   "metadata": {},
   "source": [
    "- A maioria das colunas numericas seguem um padrão ou melhor, uma distribuição normal, claro que há exceções, como por exemplo a coluna de salário, porém como vamos fazer uma seleção de colunas no futuro, vamos retira-la de qualquer forma, mas e bom para ter uma ideia geral dos meus dados numericos."
   ]
  },
  {
   "cell_type": "markdown",
   "id": "b5c045bf",
   "metadata": {},
   "source": [
    "---"
   ]
  },
  {
   "cell_type": "markdown",
   "id": "fa521075",
   "metadata": {},
   "source": [
    "- E assim termina o processo de exploração dos dados\n",
    "    - Nessa etapa eu:\n",
    "            - plotei um heatmap\n",
    "            - Resolvemos algumas perguntas de negocio.\n",
    "            - Obtivemos uma ideia geral, por exemplo o homens serem mais dominantes no mercado\n",
    "            "
   ]
  },
  {
   "cell_type": "markdown",
   "id": "f8ead31a",
   "metadata": {},
   "source": [
    "---"
   ]
  },
  {
   "cell_type": "markdown",
   "id": "e3563b63",
   "metadata": {},
   "source": [
    "#### Etapa 5: Encondig dos dados"
   ]
  },
  {
   "cell_type": "code",
   "execution_count": 27,
   "id": "3af98b64",
   "metadata": {},
   "outputs": [
    {
     "data": {
      "text/html": [
       "<div>\n",
       "<style scoped>\n",
       "    .dataframe tbody tr th:only-of-type {\n",
       "        vertical-align: middle;\n",
       "    }\n",
       "\n",
       "    .dataframe tbody tr th {\n",
       "        vertical-align: top;\n",
       "    }\n",
       "\n",
       "    .dataframe thead th {\n",
       "        text-align: right;\n",
       "    }\n",
       "</style>\n",
       "<table border=\"1\" class=\"dataframe\">\n",
       "  <thead>\n",
       "    <tr style=\"text-align: right;\">\n",
       "      <th></th>\n",
       "      <th>sl_no</th>\n",
       "      <th>gender</th>\n",
       "      <th>ssc_p</th>\n",
       "      <th>ssc_b</th>\n",
       "      <th>hsc_p</th>\n",
       "      <th>hsc_b</th>\n",
       "      <th>hsc_s</th>\n",
       "      <th>degree_p</th>\n",
       "      <th>degree_t</th>\n",
       "      <th>workex</th>\n",
       "      <th>etest_p</th>\n",
       "      <th>specialisation</th>\n",
       "      <th>mba_p</th>\n",
       "      <th>status</th>\n",
       "      <th>salary</th>\n",
       "    </tr>\n",
       "  </thead>\n",
       "  <tbody>\n",
       "    <tr>\n",
       "      <th>0</th>\n",
       "      <td>1</td>\n",
       "      <td>1</td>\n",
       "      <td>67.00</td>\n",
       "      <td>1</td>\n",
       "      <td>91.00</td>\n",
       "      <td>1</td>\n",
       "      <td>1</td>\n",
       "      <td>58.00</td>\n",
       "      <td>2</td>\n",
       "      <td>0</td>\n",
       "      <td>55.0</td>\n",
       "      <td>1</td>\n",
       "      <td>58.80</td>\n",
       "      <td>1</td>\n",
       "      <td>270000.0</td>\n",
       "    </tr>\n",
       "    <tr>\n",
       "      <th>1</th>\n",
       "      <td>2</td>\n",
       "      <td>1</td>\n",
       "      <td>79.33</td>\n",
       "      <td>0</td>\n",
       "      <td>78.33</td>\n",
       "      <td>1</td>\n",
       "      <td>2</td>\n",
       "      <td>77.48</td>\n",
       "      <td>2</td>\n",
       "      <td>1</td>\n",
       "      <td>86.5</td>\n",
       "      <td>0</td>\n",
       "      <td>66.28</td>\n",
       "      <td>1</td>\n",
       "      <td>200000.0</td>\n",
       "    </tr>\n",
       "    <tr>\n",
       "      <th>2</th>\n",
       "      <td>3</td>\n",
       "      <td>1</td>\n",
       "      <td>65.00</td>\n",
       "      <td>0</td>\n",
       "      <td>68.00</td>\n",
       "      <td>0</td>\n",
       "      <td>0</td>\n",
       "      <td>64.00</td>\n",
       "      <td>0</td>\n",
       "      <td>0</td>\n",
       "      <td>75.0</td>\n",
       "      <td>0</td>\n",
       "      <td>57.80</td>\n",
       "      <td>1</td>\n",
       "      <td>250000.0</td>\n",
       "    </tr>\n",
       "    <tr>\n",
       "      <th>3</th>\n",
       "      <td>4</td>\n",
       "      <td>1</td>\n",
       "      <td>56.00</td>\n",
       "      <td>0</td>\n",
       "      <td>52.00</td>\n",
       "      <td>0</td>\n",
       "      <td>2</td>\n",
       "      <td>52.00</td>\n",
       "      <td>2</td>\n",
       "      <td>0</td>\n",
       "      <td>66.0</td>\n",
       "      <td>1</td>\n",
       "      <td>59.43</td>\n",
       "      <td>0</td>\n",
       "      <td>300000.0</td>\n",
       "    </tr>\n",
       "    <tr>\n",
       "      <th>4</th>\n",
       "      <td>5</td>\n",
       "      <td>1</td>\n",
       "      <td>85.80</td>\n",
       "      <td>0</td>\n",
       "      <td>73.60</td>\n",
       "      <td>0</td>\n",
       "      <td>1</td>\n",
       "      <td>73.30</td>\n",
       "      <td>0</td>\n",
       "      <td>0</td>\n",
       "      <td>96.8</td>\n",
       "      <td>0</td>\n",
       "      <td>55.50</td>\n",
       "      <td>1</td>\n",
       "      <td>425000.0</td>\n",
       "    </tr>\n",
       "  </tbody>\n",
       "</table>\n",
       "</div>"
      ],
      "text/plain": [
       "   sl_no  gender  ssc_p  ssc_b  hsc_p  hsc_b  hsc_s  degree_p  degree_t  \\\n",
       "0      1       1  67.00      1  91.00      1      1     58.00         2   \n",
       "1      2       1  79.33      0  78.33      1      2     77.48         2   \n",
       "2      3       1  65.00      0  68.00      0      0     64.00         0   \n",
       "3      4       1  56.00      0  52.00      0      2     52.00         2   \n",
       "4      5       1  85.80      0  73.60      0      1     73.30         0   \n",
       "\n",
       "   workex  etest_p  specialisation  mba_p  status    salary  \n",
       "0       0     55.0               1  58.80       1  270000.0  \n",
       "1       1     86.5               0  66.28       1  200000.0  \n",
       "2       0     75.0               0  57.80       1  250000.0  \n",
       "3       0     66.0               1  59.43       0  300000.0  \n",
       "4       0     96.8               0  55.50       1  425000.0  "
      ]
     },
     "execution_count": 27,
     "metadata": {},
     "output_type": "execute_result"
    }
   ],
   "source": [
    "#Funçãoq eu vai fazer o encondig nos dados.\n",
    "def labelencode(le,col):\n",
    "    \n",
    "    df[col] = le.fit_transform(df[col])\n",
    "    \n",
    "#Receber os dados com encondig\n",
    "getmappings = {}\n",
    "\n",
    "\n",
    "#Instancia do modelo\n",
    "le = LabelEncoder()\n",
    "\n",
    "\n",
    "#Percorendo as colunas\n",
    "for col in list(countdict.keys()):\n",
    "    labelencode(le,col)\n",
    "    getmappings[col] = dict(zip(le.classes_,le.transform(le.classes_)))\n",
    "    \n",
    "\n",
    "df.head()"
   ]
  },
  {
   "cell_type": "markdown",
   "id": "b16d320e",
   "metadata": {},
   "source": [
    "#### Feature Selection"
   ]
  },
  {
   "cell_type": "markdown",
   "id": "79e35f3f",
   "metadata": {},
   "source": [
    "- Aqui nos vamos usar dois metodos e através da interseção deles tirar as melhores colunas possiveis, esses metodos vai ser\n",
    "    - Extra Trees\n",
    "    - Mutual_info"
   ]
  },
  {
   "cell_type": "markdown",
   "id": "c2bde1fe",
   "metadata": {},
   "source": [
    "- O objetivo e que esses dois modelos me forneçam as colunas mais relevantes, depois de obter essas colunas eu vou fazer uma interseção dos dados, e pegar apenas as colunas que aparecem nos dois modelo, ou seja, as melhores colunas"
   ]
  },
  {
   "cell_type": "code",
   "execution_count": 28,
   "id": "53bee38b",
   "metadata": {},
   "outputs": [
    {
     "data": {
      "text/html": [
       "<div>\n",
       "<style scoped>\n",
       "    .dataframe tbody tr th:only-of-type {\n",
       "        vertical-align: middle;\n",
       "    }\n",
       "\n",
       "    .dataframe tbody tr th {\n",
       "        vertical-align: top;\n",
       "    }\n",
       "\n",
       "    .dataframe thead th {\n",
       "        text-align: right;\n",
       "    }\n",
       "</style>\n",
       "<table border=\"1\" class=\"dataframe\">\n",
       "  <thead>\n",
       "    <tr style=\"text-align: right;\">\n",
       "      <th></th>\n",
       "      <th>gender</th>\n",
       "      <th>ssc_p</th>\n",
       "      <th>ssc_b</th>\n",
       "      <th>hsc_p</th>\n",
       "      <th>hsc_b</th>\n",
       "      <th>hsc_s</th>\n",
       "      <th>degree_p</th>\n",
       "      <th>degree_t</th>\n",
       "      <th>workex</th>\n",
       "      <th>etest_p</th>\n",
       "      <th>specialisation</th>\n",
       "      <th>mba_p</th>\n",
       "    </tr>\n",
       "  </thead>\n",
       "  <tbody>\n",
       "    <tr>\n",
       "      <th>0</th>\n",
       "      <td>1</td>\n",
       "      <td>67.00</td>\n",
       "      <td>1</td>\n",
       "      <td>91.00</td>\n",
       "      <td>1</td>\n",
       "      <td>1</td>\n",
       "      <td>58.00</td>\n",
       "      <td>2</td>\n",
       "      <td>0</td>\n",
       "      <td>55.0</td>\n",
       "      <td>1</td>\n",
       "      <td>58.80</td>\n",
       "    </tr>\n",
       "    <tr>\n",
       "      <th>1</th>\n",
       "      <td>1</td>\n",
       "      <td>79.33</td>\n",
       "      <td>0</td>\n",
       "      <td>78.33</td>\n",
       "      <td>1</td>\n",
       "      <td>2</td>\n",
       "      <td>77.48</td>\n",
       "      <td>2</td>\n",
       "      <td>1</td>\n",
       "      <td>86.5</td>\n",
       "      <td>0</td>\n",
       "      <td>66.28</td>\n",
       "    </tr>\n",
       "    <tr>\n",
       "      <th>2</th>\n",
       "      <td>1</td>\n",
       "      <td>65.00</td>\n",
       "      <td>0</td>\n",
       "      <td>68.00</td>\n",
       "      <td>0</td>\n",
       "      <td>0</td>\n",
       "      <td>64.00</td>\n",
       "      <td>0</td>\n",
       "      <td>0</td>\n",
       "      <td>75.0</td>\n",
       "      <td>0</td>\n",
       "      <td>57.80</td>\n",
       "    </tr>\n",
       "    <tr>\n",
       "      <th>3</th>\n",
       "      <td>1</td>\n",
       "      <td>56.00</td>\n",
       "      <td>0</td>\n",
       "      <td>52.00</td>\n",
       "      <td>0</td>\n",
       "      <td>2</td>\n",
       "      <td>52.00</td>\n",
       "      <td>2</td>\n",
       "      <td>0</td>\n",
       "      <td>66.0</td>\n",
       "      <td>1</td>\n",
       "      <td>59.43</td>\n",
       "    </tr>\n",
       "    <tr>\n",
       "      <th>4</th>\n",
       "      <td>1</td>\n",
       "      <td>85.80</td>\n",
       "      <td>0</td>\n",
       "      <td>73.60</td>\n",
       "      <td>0</td>\n",
       "      <td>1</td>\n",
       "      <td>73.30</td>\n",
       "      <td>0</td>\n",
       "      <td>0</td>\n",
       "      <td>96.8</td>\n",
       "      <td>0</td>\n",
       "      <td>55.50</td>\n",
       "    </tr>\n",
       "  </tbody>\n",
       "</table>\n",
       "</div>"
      ],
      "text/plain": [
       "   gender  ssc_p  ssc_b  hsc_p  hsc_b  hsc_s  degree_p  degree_t  workex  \\\n",
       "0       1  67.00      1  91.00      1      1     58.00         2       0   \n",
       "1       1  79.33      0  78.33      1      2     77.48         2       1   \n",
       "2       1  65.00      0  68.00      0      0     64.00         0       0   \n",
       "3       1  56.00      0  52.00      0      2     52.00         2       0   \n",
       "4       1  85.80      0  73.60      0      1     73.30         0       0   \n",
       "\n",
       "   etest_p  specialisation  mba_p  \n",
       "0     55.0               1  58.80  \n",
       "1     86.5               0  66.28  \n",
       "2     75.0               0  57.80  \n",
       "3     66.0               1  59.43  \n",
       "4     96.8               0  55.50  "
      ]
     },
     "execution_count": 28,
     "metadata": {},
     "output_type": "execute_result"
    }
   ],
   "source": [
    "#Para isso primeiro eu tenho que separar meus dados entre treino e teste\n",
    "\n",
    "#Criando uma copia dos meus dados para não danificar a estrutura original\n",
    "copia_df = df.copy()\n",
    "\n",
    "test = copia_df['status']\n",
    "train = copia_df.drop(['status','salary','sl_no'],axis=1)\n",
    "\n",
    "train.head()\n",
    "#Removi a coluna de Salary pois como já havia comentado acima, ela não tem relação com meu objetivo, entõo não fazia sentido\n",
    "#Mante-la."
   ]
  },
  {
   "cell_type": "code",
   "execution_count": 29,
   "id": "2e42e43d",
   "metadata": {},
   "outputs": [
    {
     "data": {
      "text/plain": [
       "ExtraTreesClassifier()"
      ]
     },
     "execution_count": 29,
     "metadata": {},
     "output_type": "execute_result"
    }
   ],
   "source": [
    "#Extra Treee\n",
    "modelo_ex = ExtraTreesClassifier()\n",
    "modelo_ex.fit(train,test)"
   ]
  },
  {
   "cell_type": "code",
   "execution_count": 30,
   "id": "5ac0c6f8",
   "metadata": {},
   "outputs": [
    {
     "data": {
      "text/plain": [
       "<AxesSubplot:>"
      ]
     },
     "execution_count": 30,
     "metadata": {},
     "output_type": "execute_result"
    },
    {
     "data": {
      "image/png": "[encoded data removed]",
      "text/plain": [
       "<Figure size 432x288 with 1 Axes>"
      ]
     },
     "metadata": {
      "needs_background": "light"
     },
     "output_type": "display_data"
    }
   ],
   "source": [
    "#Criando uma series com os dados da Extra Tree\n",
    "Extra_bar = pd.Series(modelo_ex.feature_importances_,index=train.columns)\n",
    "\n",
    "#Plotando o grafico com as 7 principais colunas.\n",
    "Extra_bar.nlargest(7).plot(kind='barh')"
   ]
  },
  {
   "cell_type": "code",
   "execution_count": 31,
   "id": "85d925ce",
   "metadata": {},
   "outputs": [
    {
     "data": {
      "image/png": "[encoded data removed]",
      "text/plain": [
       "<Figure size 1080x504 with 1 Axes>"
      ]
     },
     "metadata": {},
     "output_type": "display_data"
    }
   ],
   "source": [
    "#Porcentagem que cada coluna representa\n",
    "Extra_bar.nlargest(7).plot(kind='pie',autopct='%1.0f%%',figsize = (15,7));"
   ]
  },
  {
   "cell_type": "markdown",
   "id": "43f00bf6",
   "metadata": {},
   "source": [
    "---"
   ]
  },
  {
   "cell_type": "code",
   "execution_count": 32,
   "id": "90b7bd74",
   "metadata": {},
   "outputs": [
    {
     "data": {
      "text/plain": [
       "<AxesSubplot:>"
      ]
     },
     "execution_count": 32,
     "metadata": {},
     "output_type": "execute_result"
    },
    {
     "data": {
      "image/png": "[encoded data removed]",
      "text/plain": [
       "<Figure size 432x288 with 1 Axes>"
      ]
     },
     "metadata": {
      "needs_background": "light"
     },
     "output_type": "display_data"
    }
   ],
   "source": [
    "#Mutual_info_classif\n",
    "\n",
    "#instanciando e treinando\n",
    "modelo_mc = mutual_info_classif(train,test)\n",
    "\n",
    "#Fazendo uma series com ela\n",
    "Mutual = pd.Series(modelo_mc,index=train.columns)\n",
    "\n",
    "#Grafico com as 7 principais colunas\n",
    "Mutual.nlargest(7).plot(kind='barh')"
   ]
  },
  {
   "cell_type": "code",
   "execution_count": 33,
   "id": "278eb70b",
   "metadata": {},
   "outputs": [
    {
     "data": {
      "image/png": "[encoded data removed]",
      "text/plain": [
       "<Figure size 1080x504 with 1 Axes>"
      ]
     },
     "metadata": {},
     "output_type": "display_data"
    }
   ],
   "source": [
    "#Porcentagem que cada coluna representa\n",
    "pd.Series(modelo_mc,index=train.columns).plot(kind = 'pie',autopct='%1.0f%%',figsize = (15,7));"
   ]
  },
  {
   "cell_type": "markdown",
   "id": "a6d19a7d",
   "metadata": {},
   "source": [
    "---"
   ]
  },
  {
   "cell_type": "markdown",
   "id": "424e1a52",
   "metadata": {},
   "source": [
    "- Agora temos dois modelos com suas respectivas visões sobre os dados e com suas colunas que acham mais relevantes."
   ]
  },
  {
   "cell_type": "code",
   "execution_count": 35,
   "id": "2ee042e1",
   "metadata": {},
   "outputs": [
    {
     "name": "stdout",
     "output_type": "stream",
     "text": [
      "['hsc_s', 'ssc_p', 'specialisation', 'hsc_p', 'gender', 'mba_p', 'degree_p', 'workex']\n"
     ]
    }
   ],
   "source": [
    "#Vamos usar a interseção dos dois metodos para retirar as melhores colunas, a interseção e quando o valor e igual nas duas metricas\n",
    "\n",
    "#Colunas do extra tree\n",
    "Extra_bar_colum = list(Extra_bar.nlargest(10).index)\n",
    "\n",
    "#Colunas do mutual info\n",
    "Mult_bar_colum = list(Mutual.nlargest(10).index)\n",
    "\n",
    "#Adicionando a interseção a uma variavel\n",
    "Commum_columns = list(set(Extra_bar_colum).intersection(set(Mult_bar_colum)))\n",
    "\n",
    "#Exibindo\n",
    "print(Commum_columns)"
   ]
  },
  {
   "cell_type": "code",
   "execution_count": 36,
   "id": "101cb821",
   "metadata": {},
   "outputs": [
    {
     "data": {
      "text/html": [
       "<div>\n",
       "<style scoped>\n",
       "    .dataframe tbody tr th:only-of-type {\n",
       "        vertical-align: middle;\n",
       "    }\n",
       "\n",
       "    .dataframe tbody tr th {\n",
       "        vertical-align: top;\n",
       "    }\n",
       "\n",
       "    .dataframe thead th {\n",
       "        text-align: right;\n",
       "    }\n",
       "</style>\n",
       "<table border=\"1\" class=\"dataframe\">\n",
       "  <thead>\n",
       "    <tr style=\"text-align: right;\">\n",
       "      <th></th>\n",
       "      <th>Gender</th>\n",
       "      <th>Specialisation</th>\n",
       "      <th>Techinal Degree</th>\n",
       "      <th>Work Experience</th>\n",
       "      <th>SSC_p</th>\n",
       "      <th>High School_p</th>\n",
       "      <th>Degree_p</th>\n",
       "      <th>MBA_p</th>\n",
       "    </tr>\n",
       "  </thead>\n",
       "  <tbody>\n",
       "    <tr>\n",
       "      <th>0</th>\n",
       "      <td>1</td>\n",
       "      <td>1</td>\n",
       "      <td>2</td>\n",
       "      <td>0</td>\n",
       "      <td>67.00</td>\n",
       "      <td>91.00</td>\n",
       "      <td>58.00</td>\n",
       "      <td>58.80</td>\n",
       "    </tr>\n",
       "    <tr>\n",
       "      <th>1</th>\n",
       "      <td>1</td>\n",
       "      <td>0</td>\n",
       "      <td>2</td>\n",
       "      <td>1</td>\n",
       "      <td>79.33</td>\n",
       "      <td>78.33</td>\n",
       "      <td>77.48</td>\n",
       "      <td>66.28</td>\n",
       "    </tr>\n",
       "    <tr>\n",
       "      <th>2</th>\n",
       "      <td>1</td>\n",
       "      <td>0</td>\n",
       "      <td>0</td>\n",
       "      <td>0</td>\n",
       "      <td>65.00</td>\n",
       "      <td>68.00</td>\n",
       "      <td>64.00</td>\n",
       "      <td>57.80</td>\n",
       "    </tr>\n",
       "    <tr>\n",
       "      <th>3</th>\n",
       "      <td>1</td>\n",
       "      <td>1</td>\n",
       "      <td>2</td>\n",
       "      <td>0</td>\n",
       "      <td>56.00</td>\n",
       "      <td>52.00</td>\n",
       "      <td>52.00</td>\n",
       "      <td>59.43</td>\n",
       "    </tr>\n",
       "    <tr>\n",
       "      <th>4</th>\n",
       "      <td>1</td>\n",
       "      <td>0</td>\n",
       "      <td>0</td>\n",
       "      <td>0</td>\n",
       "      <td>85.80</td>\n",
       "      <td>73.60</td>\n",
       "      <td>73.30</td>\n",
       "      <td>55.50</td>\n",
       "    </tr>\n",
       "  </tbody>\n",
       "</table>\n",
       "</div>"
      ],
      "text/plain": [
       "   Gender  Specialisation  Techinal Degree  Work Experience  SSC_p  \\\n",
       "0       1               1                2                0  67.00   \n",
       "1       1               0                2                1  79.33   \n",
       "2       1               0                0                0  65.00   \n",
       "3       1               1                2                0  56.00   \n",
       "4       1               0                0                0  85.80   \n",
       "\n",
       "   High School_p  Degree_p  MBA_p  \n",
       "0          91.00     58.00  58.80  \n",
       "1          78.33     77.48  66.28  \n",
       "2          68.00     64.00  57.80  \n",
       "3          52.00     52.00  59.43  \n",
       "4          73.60     73.30  55.50  "
      ]
     },
     "execution_count": 36,
     "metadata": {},
     "output_type": "execute_result"
    }
   ],
   "source": [
    "# renaming the cols\n",
    "\n",
    "#Ordenar as coluans\n",
    "train = train[['gender','specialisation','degree_t','workex','ssc_p','hsc_p','degree_p','mba_p']]\n",
    "\n",
    "#Renomeando as colunas\n",
    "train.columns = ['Gender','Specialisation','Techinal Degree','Work Experience','SSC_p','High School_p','Degree_p','MBA_p']\n",
    "train.head()"
   ]
  },
  {
   "cell_type": "markdown",
   "id": "dde69650",
   "metadata": {},
   "source": [
    "- Dicionario das colunas que vamos utilizar\n",
    "     - Gender: Gênero\n",
    "     - Specialisation: Especialização\n",
    "     - Techinal Degree: Grau Técnico\n",
    "     - Work Experience: Experiência de trabalho\n",
    "     - SSC_p: Comissão de Seleção de Pessoal_pontuação\n",
    "     - High School_p: Ensino Médio_pontuação\n",
    "     - Degree_p: Gradução_pontuação\n",
    "     - MBA_p: Mestre em Administração de Negócios_pontuação"
   ]
  },
  {
   "cell_type": "markdown",
   "id": "e2b2c72c",
   "metadata": {},
   "source": [
    "---"
   ]
  },
  {
   "cell_type": "markdown",
   "id": "b551f520",
   "metadata": {},
   "source": [
    "- E assim acabamos o processo de enconding, nessa etapa eu fiz\n",
    "    - Processo de enconding das colunas de genero, transformando 0 quando for homem e 1 para mulher\n",
    "    - FIz o processo de seleção de colunas mais relevantes atraves de dois modelos do sklearn\n",
    "    - Fiz o dicionario das colunas"
   ]
  },
  {
   "cell_type": "markdown",
   "id": "220571ab",
   "metadata": {},
   "source": [
    "---"
   ]
  },
  {
   "cell_type": "markdown",
   "id": "68d55aa1",
   "metadata": {},
   "source": [
    "#### Etapa 6: Aplicação dos modelos de ML e Avaliação deles."
   ]
  },
  {
   "cell_type": "code",
   "execution_count": null,
   "id": "0d75ee80",
   "metadata": {},
   "outputs": [],
   "source": []
  }
 ],
 "metadata": {
  "kernelspec": {
   "display_name": "Python 3",
   "language": "python",
   "name": "python3"
  },
  "language_info": {
   "codemirror_mode": {
    "name": "ipython",
    "version": 3
   },
   "file_extension": ".py",
   "mimetype": "text/x-python",
   "name": "python",
   "nbconvert_exporter": "python",
   "pygments_lexer": "ipython3",
   "version": "3.8.8"
  }
 },
 "nbformat": 4,
 "nbformat_minor": 5
}
